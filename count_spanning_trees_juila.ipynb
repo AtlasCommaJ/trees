{
 "cells": [
  {
   "cell_type": "code",
   "execution_count": 1,
   "metadata": {},
   "outputs": [
    {
     "name": "stdout",
     "output_type": "stream",
     "text": [
      "\u001b[32m\u001b[1mActivating\u001b[22m\u001b[39m environment at `~/.julia/environments/gerry/Project.toml`\n"
     ]
    }
   ],
   "source": [
    "using Pkg; Pkg.activate(\"gerry\"; shared=true) \n",
    "using LightGraphs\n",
    "using LinearAlgebra\n",
    "using Arpack"
   ]
  },
  {
   "cell_type": "code",
   "execution_count": 16,
   "metadata": {},
   "outputs": [
    {
     "data": {
      "text/plain": [
       "get_laplacian (generic function with 1 method)"
      ]
     },
     "execution_count": 16,
     "metadata": {},
     "output_type": "execute_result"
    }
   ],
   "source": [
    "function get_num_spanning_trees(g)\n",
    "    laplacian = get_laplacian(g)\n",
    "    eigvalues, nconv, niter, nmult, resid = eigs(laplacian, ritzvec=false, nev=size(laplacian)[1]-1)\n",
    "\n",
    "    num_span_trees = 1\n",
    "    for eigvalue in eigvalues\n",
    "        num_span_trees *= eigvalue\n",
    "    end\n",
    "    num_span_trees = num_span_trees / nv(g)\n",
    "    \n",
    "    return num_span_trees\n",
    "end\n",
    "\n",
    "function get_laplacian(g)\n",
    "    return Diagonal(degree(g)) - adjacency_matrix(g)\n",
    "end"
   ]
  },
  {
   "cell_type": "code",
   "execution_count": 14,
   "metadata": {},
   "outputs": [
    {
     "data": {
      "text/plain": [
       "14×14 SparseArrays.SparseMatrixCSC{Int64,Int64} with 52 stored entries:\n",
       "  [1 ,  1]  =  2\n",
       "  [2 ,  1]  =  -1\n",
       "  [3 ,  1]  =  -1\n",
       "  [1 ,  2]  =  -1\n",
       "  [2 ,  2]  =  2\n",
       "  [4 ,  2]  =  -1\n",
       "  [1 ,  3]  =  -1\n",
       "  [3 ,  3]  =  3\n",
       "  [4 ,  3]  =  -1\n",
       "  [5 ,  3]  =  -1\n",
       "  [2 ,  4]  =  -1\n",
       "  [3 ,  4]  =  -1\n",
       "  ⋮\n",
       "  [11, 11]  =  3\n",
       "  [12, 11]  =  -1\n",
       "  [13, 11]  =  -1\n",
       "  [10, 12]  =  -1\n",
       "  [11, 12]  =  -1\n",
       "  [12, 12]  =  3\n",
       "  [14, 12]  =  -1\n",
       "  [11, 13]  =  -1\n",
       "  [13, 13]  =  2\n",
       "  [14, 13]  =  -1\n",
       "  [12, 14]  =  -1\n",
       "  [13, 14]  =  -1\n",
       "  [14, 14]  =  2"
      ]
     },
     "execution_count": 14,
     "metadata": {},
     "output_type": "execute_result"
    }
   ],
   "source": [
    "g = grid([2, 7])\n",
    "lap = get_laplacian(g)"
   ]
  },
  {
   "cell_type": "code",
   "execution_count": 19,
   "metadata": {},
   "outputs": [
    {
     "data": {
      "text/plain": [
       "100351.99999999993"
      ]
     },
     "execution_count": 19,
     "metadata": {},
     "output_type": "execute_result"
    }
   ],
   "source": [
    "g = grid([4, 4])\n",
    "get_num_spanning_trees(g)"
   ]
  },
  {
   "cell_type": "code",
   "execution_count": 12,
   "metadata": {},
   "outputs": [
    {
     "data": {
      "text/plain": [
       "14"
      ]
     },
     "execution_count": 12,
     "metadata": {},
     "output_type": "execute_result"
    }
   ],
   "source": []
  },
  {
   "cell_type": "code",
   "execution_count": null,
   "metadata": {},
   "outputs": [],
   "source": [
    "# g = SimpleGraph(5)\n",
    "g = grid([2, 7])\n",
    "add_edge!(g, 1, 2)\n",
    "add_edge!(g, 2, 3)\n",
    "add_edge!(g, 3, 4)\n",
    "add_edge!(g, 1, 4)\n",
    "add_edge!(g, 2, 4)\n",
    "add_edge!(g, 1, 5)\n",
    "add_edge!(g, 2, 5)"
   ]
  },
  {
   "cell_type": "code",
   "execution_count": null,
   "metadata": {},
   "outputs": [],
   "source": [
    "g"
   ]
  },
  {
   "cell_type": "code",
   "execution_count": null,
   "metadata": {},
   "outputs": [],
   "source": [
    "56*56"
   ]
  },
  {
   "cell_type": "code",
   "execution_count": null,
   "metadata": {},
   "outputs": [],
   "source": [
    "37600-3136"
   ]
  },
  {
   "cell_type": "code",
   "execution_count": null,
   "metadata": {},
   "outputs": [],
   "source": []
  },
  {
   "cell_type": "code",
   "execution_count": null,
   "metadata": {},
   "outputs": [],
   "source": []
  }
 ],
 "metadata": {
  "kernelspec": {
   "display_name": "Julia 1.3.1",
   "language": "julia",
   "name": "julia-1.3"
  },
  "language_info": {
   "file_extension": ".jl",
   "mimetype": "application/julia",
   "name": "julia",
   "version": "1.3.1"
  }
 },
 "nbformat": 4,
 "nbformat_minor": 4
}
