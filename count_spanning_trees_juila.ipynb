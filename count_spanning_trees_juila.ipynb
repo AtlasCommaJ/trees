{
 "cells": [
  {
   "cell_type": "code",
   "execution_count": 1,
   "metadata": {},
   "outputs": [
    {
     "name": "stdout",
     "output_type": "stream",
     "text": [
      "\u001b[32m\u001b[1mActivating\u001b[22m\u001b[39m environment at `~/.julia/environments/gerry/Project.toml`\n"
     ]
    }
   ],
   "source": [
    "using Pkg; Pkg.activate(\"gerry\"; shared=true) \n",
    "using LightGraphs\n",
    "using LinearAlgebra\n",
    "using Arpack"
   ]
  },
  {
   "cell_type": "code",
   "execution_count": 2,
   "metadata": {},
   "outputs": [
    {
     "data": {
      "text/plain": [
       "get_laplacian (generic function with 1 method)"
      ]
     },
     "execution_count": 2,
     "metadata": {},
     "output_type": "execute_result"
    }
   ],
   "source": [
    "function get_num_spanning_trees(g)\n",
    "    laplacian = get_laplacian(g)\n",
    "    eigvalues, nconv, niter, nmult, resid = eigs(laplacian, ritzvec=false, nev=size(laplacian)[1]-1)\n",
    "\n",
    "    num_span_trees = 1\n",
    "    for eigvalue in eigvalues\n",
    "        num_span_trees *= eigvalue\n",
    "    end\n",
    "    num_span_trees = num_span_trees / nv(g)\n",
    "    \n",
    "    return num_span_trees\n",
    "end\n",
    "\n",
    "function get_laplacian(g)\n",
    "    return Diagonal(degree(g)) - adjacency_matrix(g)\n",
    "end"
   ]
  },
  {
   "cell_type": "code",
   "execution_count": 3,
   "metadata": {},
   "outputs": [
    {
     "data": {
      "text/plain": [
       "100352.0000000005"
      ]
     },
     "execution_count": 3,
     "metadata": {},
     "output_type": "execute_result"
    }
   ],
   "source": [
    "g = grid([4, 4])\n",
    "get_num_spanning_trees(g)"
   ]
  },
  {
   "cell_type": "code",
   "execution_count": null,
   "metadata": {},
   "outputs": [],
   "source": []
  }
 ],
 "metadata": {
  "kernelspec": {
   "display_name": "Julia 1.3.1",
   "language": "julia",
   "name": "julia-1.3"
  },
  "language_info": {
   "file_extension": ".jl",
   "mimetype": "application/julia",
   "name": "julia",
   "version": "1.3.1"
  }
 },
 "nbformat": 4,
 "nbformat_minor": 4
}
