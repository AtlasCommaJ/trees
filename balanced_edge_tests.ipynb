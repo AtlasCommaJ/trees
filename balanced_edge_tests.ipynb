{
 "cells": [
  {
   "cell_type": "code",
   "execution_count": 1,
   "metadata": {},
   "outputs": [],
   "source": [
    "import networkx as nx\n",
    "import matplotlib.pyplot as plt\n",
    "import random\n",
    "import pickle\n",
    "import tree_utils\n",
    "import time\n",
    "\n",
    "from tqdm import trange, tqdm\n",
    "from collections import defaultdict, deque, namedtuple"
   ]
  },
  {
   "cell_type": "markdown",
   "metadata": {},
   "source": [
    "A lot of these functions were copied over from https://github.com/mggg/GerryChain/blob/recom-fixes/gerrychain/tree.py for testing. "
   ]
  },
  {
   "cell_type": "code",
   "execution_count": 2,
   "metadata": {},
   "outputs": [],
   "source": [
    "class PopulatedGraph:\n",
    "    def __init__(self, graph, populations, ideal_pop, epsilon):\n",
    "        self.graph = graph\n",
    "        self.subsets = {node: {node} for node in graph}\n",
    "        self.population = populations.copy()\n",
    "        self.tot_pop = sum(self.population.values())\n",
    "        self.ideal_pop = ideal_pop\n",
    "        self.epsilon = epsilon\n",
    "        self._degrees = {node: graph.degree(node) for node in graph}\n",
    "    \n",
    "    def __iter__(self):\n",
    "        return iter(self.graph)\n",
    "    \n",
    "    def degree(self, node):\n",
    "        return self._degrees[node]\n",
    "    \n",
    "    def contract_node(self, node, parent):\n",
    "        self.population[parent] += self.population[node]\n",
    "        self.subsets[parent] |= self.subsets[node]\n",
    "        self._degrees[parent] -= 1\n",
    "    \n",
    "    def has_ideal_population(self, node):\n",
    "        return (\n",
    "            (\n",
    "                abs(self.population[node] - self.ideal_pop) <=\n",
    "                self.epsilon * self.ideal_pop\n",
    "            ) or \n",
    "            (\n",
    "                abs(self.population[node] - (self.tot_pop - self.ideal_pop)) <=\n",
    "                self.epsilon * self.ideal_pop\n",
    "            )\n",
    "        )\n",
    "\n",
    "def predecessors(h, root):\n",
    "    return {a: b for a, b in nx.bfs_predecessors(h, root)}\n",
    "\n",
    "def successors(h, root):\n",
    "    return {a: b for a, b in nx.bfs_successors(h, root)}\n",
    "\n",
    "def find_balanced_edge_cuts_contraction(h, choice=random.choice):\n",
    "    # this used to be greater than 2 but failed on small grids:(\n",
    "    root = choice([x for x in h if h.degree(x) > 1])\n",
    "    # BFS predecessors for iteratively contracting leaves\n",
    "    pred = predecessors(h.graph, root)\n",
    "\n",
    "    cuts = []\n",
    "    leaves = deque(x for x in h if h.degree(x) == 1)\n",
    "    while len(leaves) > 0:\n",
    "        leaf = leaves.popleft()\n",
    "        if h.has_ideal_population(leaf):\n",
    "            cuts.append(Cut(edge=(leaf, pred[leaf]), subset=h.subsets[leaf].copy()))\n",
    "        # Contract the leaf:\n",
    "        parent = pred[leaf]\n",
    "        h.contract_node(leaf, parent)\n",
    "        if h.degree(parent) == 1 and parent != root:\n",
    "            leaves.append(parent)\n",
    "    return cuts\n",
    "\n",
    "def find_balanced_edge_cuts_memoization(h, choice=random.choice):\n",
    "    root = choice([x for x in h if h.degree(x) > 1])\n",
    "    pred = predecessors(h.graph, root)\n",
    "    succ = successors(h.graph, root)\n",
    "    total_pop = h.tot_pop\n",
    "    subtree_pops = {}\n",
    "    stack = deque(n for n in succ[root])\n",
    "    while stack:\n",
    "        next_node = stack.pop()\n",
    "        if next_node not in subtree_pops:\n",
    "            if next_node in succ:\n",
    "                children = succ[next_node]\n",
    "                if all(c in subtree_pops for c in children):\n",
    "                    subtree_pops[next_node] = sum(subtree_pops[c] for c in children)\n",
    "                    subtree_pops[next_node] += h.population[next_node]            \n",
    "                else:\n",
    "                    stack.append(next_node)\n",
    "                    for c in children:\n",
    "                        if c not in subtree_pops:\n",
    "                            stack.append(c)\n",
    "            else:\n",
    "                subtree_pops[next_node] = h.population[next_node]\n",
    "    \n",
    "    cuts = []\n",
    "    for node, tree_pop in subtree_pops.items():\n",
    "        # TODO: clean this up! there might be a networkx builtin\n",
    "        def part_nodes(start):\n",
    "            nodes = set()\n",
    "            queue = deque([start])\n",
    "            while queue:\n",
    "                next_node = queue.pop()\n",
    "                if next_node not in nodes:\n",
    "                    nodes.add(next_node)\n",
    "                    if next_node in succ:\n",
    "                        for c in succ[next_node]:\n",
    "                            if c not in nodes:\n",
    "                                queue.append(c)\n",
    "            return nodes\n",
    "\n",
    "        if abs(tree_pop - h.ideal_pop) <= h.ideal_pop * h.epsilon:\n",
    "            cuts.append(Cut(edge=(node, pred[node]), subset=part_nodes(node)))\n",
    "        elif abs((total_pop - tree_pop) - h.ideal_pop) <= h.ideal_pop * h.epsilon:\n",
    "            cuts.append(Cut(edge=(node, pred[node]),\n",
    "                            subset=set(h.graph.nodes) - part_nodes(node)))\n",
    "    return cuts\n",
    "\n",
    "Cut = namedtuple(\"Cut\", \"edge subset\")\n",
    "\n",
    "def population_distributions(g):\n",
    "    \"\"\" Returns an array of tuples of (\"distribution name\", population distribution) \n",
    "        as a tuple on graph `g`.\n",
    "        \n",
    "        The population distributions are dicts of the form {node : population}.\n",
    "    \"\"\"\n",
    "    all_ones = (\"All ones\", {n: 1 for n in g.nodes})\n",
    "    all_zeros = (\"All zeros\", {n: 0 for n in g.nodes})\n",
    "    corners = (\"Corners\", {n: 1 if n in [(0, 0), (0, dim-1), (dim-1, 0), (dim-1, dim-1)] else 0 for n in g.nodes})\n",
    "    random_pops = (\"Random\", {n: random.randint(1, 3) for n in g.nodes})\n",
    "    \n",
    "    return [all_ones, all_zeros, corners, random_pops]\n",
    "\n",
    "def test_parity_between_balanced_edge_functions(spanning_trees, epsilon, pop_dists, target_pops):\n",
    "    \"\"\" Tests that the functions `find_balanced_edge_cuts_memoization()` and\n",
    "                                 `find_balanced_edge_cuts_contracttion()`\n",
    "        produce the same set of cut edges for all the `spanning_trees`.\n",
    "        \n",
    "        Args:\n",
    "            spanning_trees: A dict of the form {Int: Array(Tuple of Edges)}\n",
    "                            Each Edge is of the form, for eg ((0, 1), (0, 2)) where it connects\n",
    "                            the nodes (0, 1) and (0, 2)\n",
    "            epsilon       : Float [0-1] that is the % deviation allowed from the target population\n",
    "            pop_dists     : Array of Tuples of the form (\"Distribution Name\", dist). The dist is a dict\n",
    "                            of the form for eg. {(0, 1) : x, ...} where (0, 1) is the node and the x \n",
    "                            is the population at that node.\n",
    "            target_pops   : An array of numbers corresponding to the target pop of each pop distribution\n",
    "                            in `pop_dists`.\n",
    "    \"\"\"\n",
    "    for i, (dist_name, pops) in enumerate(pop_dists):\n",
    "        for k, sp_trees in tqdm(spanning_trees.items()):\n",
    "            for sp_tree_edges in sp_trees:\n",
    "                \n",
    "                sp_tree = nx.Graph(sp_tree_edges)\n",
    "                pop_graph = PopulatedGraph(sp_tree, pops, target_pops[i], epsilon)\n",
    "\n",
    "                balance_edges_memo = find_balanced_edge_cuts_memoization(pop_graph)\n",
    "                balance_edges_contract = find_balanced_edge_cuts_contraction(pop_graph)\n",
    "                memo_e = set(tuple(sorted(e.edge)) for e in balance_edges_memo)\n",
    "                contract_e = set(tuple(sorted(e.edge)) for e in balance_edges_contract)\n",
    "                assert memo_e == contract_e\n",
    "                \n",
    "def test_balanced_edge_functions_against_truth(tree, pops, true_balanced_edges, epsilon):\n",
    "    \"\"\" Computes the balanced edges for `tree` and compares them against `true_balanced_edges`.\n",
    "        \n",
    "        Args:\n",
    "            tree                : Networkx Graph with that is a spanning tree.\n",
    "            pops                : A dict of populations at each node in `tree` of the form {(0, 1): pop} \n",
    "                                  where the key is the node.\n",
    "            true_balanced_edges : A set of tuples, where each tuple is a collection of edges that are \n",
    "                                  the balanced edge cuts for `tree`.\n",
    "            epsilon             : Float [0-1] that is the % deviation allowed from the target population\n",
    "            \n",
    "    \"\"\"\n",
    "    target_pop = sum(pops.values()) / 2\n",
    "    pop_graph = PopulatedGraph(tree, pops, target_pop, epsilon)\n",
    "    node_colors = [pops[i] for i in tree.nodes]\n",
    "    tree_utils.draw(tree, node_colors=node_colors)\n",
    "\n",
    "    # compute balanced edges from functions \n",
    "    balance_edges_memo = find_balanced_edge_cuts_memoization(pop_graph)\n",
    "    balance_edges_contract = find_balanced_edge_cuts_contraction(pop_graph)\n",
    "    memo_e = set(tuple(sorted(e.edge)) for e in balance_edges_memo)\n",
    "    contract_e = set(tuple(sorted(e.edge)) for e in balance_edges_contract)\n",
    "\n",
    "    # test against truth\n",
    "    assert(true_balanced_edges == memo_e)\n",
    "    assert(true_balanced_edges == contract_e)"
   ]
  },
  {
   "cell_type": "code",
   "execution_count": 4,
   "metadata": {},
   "outputs": [
    {
     "name": "stderr",
     "output_type": "stream",
     "text": [
      "100%|██████████| 6/6 [00:00<00:00, 166.13it/s]\n",
      "100%|██████████| 6/6 [00:00<00:00, 156.91it/s]\n",
      "100%|██████████| 6/6 [00:00<00:00, 171.38it/s]\n",
      "100%|██████████| 6/6 [00:00<00:00, 219.30it/s]\n",
      "100%|██████████| 11/11 [00:19<00:00,  1.80s/it]\n",
      "100%|██████████| 11/11 [00:24<00:00,  2.20s/it]\n",
      "100%|██████████| 11/11 [00:23<00:00,  2.18s/it]\n",
      "100%|██████████| 11/11 [00:22<00:00,  2.06s/it]\n"
     ]
    }
   ],
   "source": [
    "dims = [3, 4]\n",
    "epsilon = 0.02 # ±1 node\n",
    "\n",
    "for dim in dims:\n",
    "    filename = \"{}x{}_STs.p\".format(dim, dim)\n",
    "    \n",
    "    with open(filename, \"rb\") as openfile:\n",
    "        spanning_trees = pickle.load(openfile)\n",
    "    \n",
    "    g = nx.grid_graph(dim=[dim, dim])\n",
    "    pop_dists = population_distributions(g)\n",
    "    target_pops = [sum(dist[1].values())/2 for dist in pop_dists]\n",
    "    \n",
    "    test_parity_between_balanced_edge_functions(spanning_trees, epsilon, pop_dists, target_pops)"
   ]
  },
  {
   "cell_type": "markdown",
   "metadata": {},
   "source": [
    "## Custom Test Cases"
   ]
  },
  {
   "cell_type": "code",
   "execution_count": 5,
   "metadata": {},
   "outputs": [
    {
     "data": {
      "image/png": "[encoded data removed]",
      "text/plain": [
       "<Figure size 288x288 with 1 Axes>"
      ]
     },
     "metadata": {},
     "output_type": "display_data"
    }
   ],
   "source": [
    "# Test Case: Snake-like Tree where all populations are 1.\n",
    "\n",
    "snake_tree = (((0, 0), (0, 1)), ((0, 1), (0, 2)), ((0, 2), (0, 3)), ((0, 3), (1, 3)), \n",
    "              ((1, 2), (1, 3)), ((1, 1), (1, 2)), ((1, 0), (1, 1)), ((1, 0), (2, 0)), \n",
    "              ((2, 0), (2, 1)), ((2, 1), (2, 2)), ((2, 2), (2, 3)), ((2, 3), (3, 3)), \n",
    "              ((3, 3), (3, 2)), ((3, 2), (3, 1)), ((3, 0), (3, 1)))\n",
    "sp_tree = nx.Graph(snake_tree)\n",
    "pops = {n: 1 for n in sp_tree.nodes}\n",
    "true_balanced_edges = {((1, 0), (2, 0))}\n",
    "test_balanced_edge_functions_against_truth(sp_tree, pops, true_balanced_edges, epsilon)"
   ]
  },
  {
   "cell_type": "code",
   "execution_count": 6,
   "metadata": {},
   "outputs": [
    {
     "data": {
      "image/png": "[encoded data removed]",
      "text/plain": [
       "<Figure size 288x288 with 1 Axes>"
      ]
     },
     "metadata": {},
     "output_type": "display_data"
    }
   ],
   "source": [
    "# Test Case 2: Snake like tree with imbalanced population distribution.\n",
    "\n",
    "snake_tree_imbalanced = (((0, 0), (0, 1)), ((0, 1), (0, 2)), ((0, 2), (0, 3)), ((0, 3), (1, 3)), \n",
    "                         ((1, 2), (1, 3)), ((1, 1), (1, 2)), ((1, 0), (1, 1)), ((1, 0), (2, 0)), \n",
    "                         ((2, 0), (2, 1)), ((2, 1), (2, 2)), ((2, 2), (2, 3)), ((2, 3), (3, 3)), \n",
    "                         ((3, 3), (3, 2)), ((3, 2), (3, 1)), ((3, 0), (3, 1)))\n",
    "sp_tree_imbalanced = nx.Graph(snake_tree_imbalanced)\n",
    "pops = {n: 1 for n in sp_tree_imbalanced.nodes}\n",
    "pops[(1,2)] = 3\n",
    "pops[(1,1)] = 0\n",
    "pops[(1,0)] = 0\n",
    "\n",
    "true_balanced_edges = {((1, 0), (2, 0)),\n",
    "                       ((1, 0), (1, 1)),\n",
    "                       ((1, 1), (1, 2))\n",
    "                      }\n",
    "\n",
    "test_balanced_edge_functions_against_truth(sp_tree, pops, true_balanced_edges, epsilon)"
   ]
  },
  {
   "cell_type": "code",
   "execution_count": 7,
   "metadata": {},
   "outputs": [
    {
     "data": {
      "image/png": "[encoded data removed]",
      "text/plain": [
       "<Figure size 288x288 with 1 Axes>"
      ]
     },
     "metadata": {},
     "output_type": "display_data"
    }
   ],
   "source": [
    "# Test Case 3: Sprawling tree with population = 1 at every node\n",
    "\n",
    "sprawl_tree = (((0, 0), (1, 0)), ((1, 0), (1, 1)), ((1, 1), (0, 1)), ((1, 1), (2, 1)), \n",
    "               ((2, 1), (2, 0)), ((2, 1), (3, 1)), ((3, 1), (3, 0)), ((1, 1), (1, 2)), \n",
    "               ((1, 2), (0, 2)), ((0, 2), (0, 3)), ((1, 2), (1, 3)), ((1, 2), (2, 2)), \n",
    "               ((2, 2), (2, 3)), ((2, 3), (3, 3)), ((2, 2), (3, 2)))\n",
    "sprawl_tree = nx.Graph(sprawl_tree)\n",
    "pops = {n: 1 for n in sprawl_tree.nodes}\n",
    "\n",
    "true_balanced_edges = {((1, 1), (1, 2))}\n",
    "test_balanced_edge_functions_against_truth(sprawl_tree, pops, true_balanced_edges, epsilon)"
   ]
  },
  {
   "cell_type": "code",
   "execution_count": null,
   "metadata": {},
   "outputs": [],
   "source": []
  }
 ],
 "metadata": {
  "kernelspec": {
   "display_name": "Python 3",
   "language": "python",
   "name": "python3"
  },
  "language_info": {
   "codemirror_mode": {
    "name": "ipython",
    "version": 3
   },
   "file_extension": ".py",
   "mimetype": "text/x-python",
   "name": "python",
   "nbconvert_exporter": "python",
   "pygments_lexer": "ipython3",
   "version": "3.8.2"
  }
 },
 "nbformat": 4,
 "nbformat_minor": 4
}
