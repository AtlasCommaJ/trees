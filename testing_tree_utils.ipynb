{
 "cells": [
  {
   "cell_type": "markdown",
   "metadata": {},
   "source": [
    "## testing out functions in tree_utils.py\n",
    "first, lets load in the necessary libraries..."
   ]
  },
  {
   "cell_type": "code",
   "execution_count": 1,
   "metadata": {},
   "outputs": [],
   "source": [
    "import networkx as nx\n",
    "import tree_utils\n",
    "import pickle"
   ]
  },
  {
   "cell_type": "markdown",
   "metadata": {},
   "source": [
    "### visualizing graphs\n",
    "first, we can create a grid graph and use the `draw()` function to look at it."
   ]
  },
  {
   "cell_type": "code",
   "execution_count": 2,
   "metadata": {},
   "outputs": [
    {
     "data": {
      "image/png": "[encoded data removed]",
      "text/plain": [
       "<Figure size 216x216 with 1 Axes>"
      ]
     },
     "metadata": {},
     "output_type": "display_data"
    }
   ],
   "source": [
    "graph = nx.grid_graph(dim=(3,3)) # change the dimensions of the graph, the plot will resize\n",
    "tree_utils.draw(graph)"
   ]
  },
  {
   "cell_type": "markdown",
   "metadata": {},
   "source": [
    "we can also add colors to the edges."
   ]
  },
  {
   "cell_type": "code",
   "execution_count": 3,
   "metadata": {},
   "outputs": [
    {
     "data": {
      "image/png": "[encoded data removed]",
      "text/plain": [
       "<Figure size 216x216 with 1 Axes>"
      ]
     },
     "metadata": {},
     "output_type": "display_data"
    }
   ],
   "source": [
    "# make all edges connected to node (1,1) red\n",
    "for u, v, data in graph.edges(data=True):\n",
    "    if (1,1) in (u,v): # make all edges connected to node (1,1) red\n",
    "        data['c'] = 'red'\n",
    "    else:\n",
    "        data['c'] = 'black'\n",
    "tree_utils.draw(graph, colors='c')"
   ]
  },
  {
   "cell_type": "markdown",
   "metadata": {},
   "source": [
    "### drawing different spanning trees \n",
    "we can use the `uniform_random_spanning_tree()` function to draw USTs on a grid.\n",
    "\n",
    "adding the optional `delay` argument lets us reflect on the graph for a while."
   ]
  },
  {
   "cell_type": "code",
   "execution_count": 4,
   "metadata": {},
   "outputs": [
    {
     "data": {
      "image/png": "[encoded data removed]",
      "text/plain": [
       "<Figure size 360x216 with 1 Axes>"
      ]
     },
     "metadata": {},
     "output_type": "display_data"
    }
   ],
   "source": [
    "graph = nx.grid_graph(dim=(3,5))\n",
    "for i in range(20):\n",
    "    UST = tree_utils.uniform_random_spanning_tree(graph)\n",
    "    tree_utils.draw(UST, delay=.1)"
   ]
  },
  {
   "cell_type": "markdown",
   "metadata": {},
   "source": [
    "we can also use the `random_minimum_spanning_tree()` function to draw MSTs on the grid in the same way."
   ]
  },
  {
   "cell_type": "code",
   "execution_count": 5,
   "metadata": {},
   "outputs": [
    {
     "data": {
      "image/png": "[encoded data removed]",
      "text/plain": [
       "<Figure size 288x216 with 1 Axes>"
      ]
     },
     "metadata": {},
     "output_type": "display_data"
    }
   ],
   "source": [
    "graph = nx.grid_graph(dim=(3,4))\n",
    "for i in range(10):\n",
    "    MST = tree_utils.random_minimum_spanning_tree(graph)\n",
    "    tree_utils.draw(MST, delay=.1)"
   ]
  },
  {
   "cell_type": "markdown",
   "metadata": {},
   "source": [
    "### counting the number of spanning trees\n",
    "the `find_NST()` function computes the number of spanning trees that can be drawn on the graph. as currently implemented, it is only accurate up to 6x6 grids. **TODO: change this to Parker's function**"
   ]
  },
  {
   "cell_type": "code",
   "execution_count": 7,
   "metadata": {},
   "outputs": [
    {
     "name": "stdout",
     "output_type": "stream",
     "text": [
      "on a 4x4 grid: 100,352 \n",
      "   true value: 100,352\n",
      "on a 7x7 grid: 19,872,369,301,840,785,408 \n",
      "   true value: 19,872,369,301,840,986,112\n"
     ]
    }
   ],
   "source": [
    "graph = nx.grid_graph(dim=(4,4))\n",
    "num_4x4_STs = tree_utils.find_NST(graph)\n",
    "print(\"on a 4x4 grid: {:,} \\n   true value: 100,352\".format(num_4x4_STs))\n",
    "\n",
    "graph = nx.grid_graph(dim=(7,7))\n",
    "num_7x7_STs = tree_utils.find_NST(graph)\n",
    "print(\"on a 7x7 grid: {:,} \\n   true value: 19,872,369,301,840,986,112\".format(num_7x7_STs))"
   ]
  },
  {
   "cell_type": "markdown",
   "metadata": {},
   "source": [
    "### enumerating spanning trees on a grid\n",
    "we can enumerate all possible spanning trees (STs) on a grid like so:\n",
    "* consider a *seed* ST. \n",
    "* say that a *neighboring* ST of our seed ST is one that has precisely one edge in a different place.\n",
    "* find all the neighbors of our seed ST and store them as the *1-neighbors* of our seed ST.\n",
    "* loop through each 1-neighbor and start again, finding its own neighbors. if it has a neighbor we haven't seen before, store it as a *2-neighbor* of the ST.\n",
    "* loop through the 2-neighbors, etc., until the number of distinct *0-n neighbors* is the same as the number of STs we're looking for\n",
    "\n",
    "the function `enumerate_STs()` does the above work. the only required argument is the dimensions of the grid graph, but you can also let it randomize the seed by passing in a `seed=int` argument. it enumerates up to 3x3 grids nearly instantaneously, takes about 30s for a 3x4 grid, and about an hour and a half for a 4x4 grid. I've gotten it down to 35 minutes for 4x4 with some speedups, but open to new ideas..."
   ]
  },
  {
   "cell_type": "code",
   "execution_count": 33,
   "metadata": {},
   "outputs": [
    {
     "name": "stdout",
     "output_type": "stream",
     "text": [
      "0-neighbors: 1\n",
      "1-neighbors: 8\n",
      "2-neighbors: 6\n",
      "3-neighbors: 0\n",
      "---\n",
      "15 unique STs\n",
      "CPU times: user 52 ms, sys: 10.4 ms, total: 62.4 ms\n",
      "Wall time: 56.9 ms\n"
     ]
    }
   ],
   "source": [
    "%%time\n",
    "neighbors = tree_utils.enumerate_STs((2,3))"
   ]
  },
  {
   "cell_type": "markdown",
   "metadata": {},
   "source": [
    "then, we can unpack all the spanning trees into a list and sample from them, using either our UST or MST algorithms, in order to see their distributions"
   ]
  },
  {
   "cell_type": "code",
   "execution_count": 34,
   "metadata": {},
   "outputs": [],
   "source": [
    "STs = tree_utils.unpack_enumerated_STs(neighbors)"
   ]
  },
  {
   "cell_type": "code",
   "execution_count": 40,
   "metadata": {},
   "outputs": [],
   "source": [
    "num_trials = 100000"
   ]
  },
  {
   "cell_type": "code",
   "execution_count": 41,
   "metadata": {},
   "outputs": [
    {
     "name": "stderr",
     "output_type": "stream",
     "text": [
      "100%|██████████| 100000/100000 [00:32<00:00, 3056.34it/s]\n"
     ]
    }
   ],
   "source": [
    "UST_data = tree_utils.sample_STs(STs, \"UST\", num_trials)"
   ]
  },
  {
   "cell_type": "code",
   "execution_count": 42,
   "metadata": {},
   "outputs": [
    {
     "name": "stderr",
     "output_type": "stream",
     "text": [
      "100%|██████████| 100000/100000 [00:34<00:00, 2865.19it/s]\n"
     ]
    }
   ],
   "source": [
    "MST_data = tree_utils.sample_STs(STs, \"MST\", num_trials)"
   ]
  },
  {
   "cell_type": "code",
   "execution_count": 43,
   "metadata": {},
   "outputs": [
    {
     "data": {
      "image/png": "[encoded data removed]",
      "text/plain": [
       "<Figure size 1152x216 with 1 Axes>"
      ]
     },
     "metadata": {
      "needs_background": "light"
     },
     "output_type": "display_data"
    }
   ],
   "source": [
    "tree_utils.plot_sampled_STs(STs, UST_data)"
   ]
  },
  {
   "cell_type": "code",
   "execution_count": 44,
   "metadata": {},
   "outputs": [
    {
     "data": {
      "image/png": "[encoded data removed]",
      "text/plain": [
       "<Figure size 1152x216 with 1 Axes>"
      ]
     },
     "metadata": {
      "needs_background": "light"
     },
     "output_type": "display_data"
    }
   ],
   "source": [
    "tree_utils.plot_sampled_STs(STs, MST_data)"
   ]
  }
 ],
 "metadata": {
  "kernelspec": {
   "display_name": "Python 3",
   "language": "python",
   "name": "python3"
  },
  "language_info": {
   "codemirror_mode": {
    "name": "ipython",
    "version": 3
   },
   "file_extension": ".py",
   "mimetype": "text/x-python",
   "name": "python",
   "nbconvert_exporter": "python",
   "pygments_lexer": "ipython3",
   "version": "3.8.5"
  }
 },
 "nbformat": 4,
 "nbformat_minor": 4
}
