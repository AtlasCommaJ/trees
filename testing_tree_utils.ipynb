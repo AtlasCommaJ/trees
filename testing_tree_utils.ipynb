{
 "cells": [
  {
   "cell_type": "markdown",
   "metadata": {},
   "source": [
    "## testing out functions in tree_utils.py\n",
    "first, lets load in the necessary libraries..."
   ]
  },
  {
   "cell_type": "code",
   "execution_count": 1,
   "metadata": {},
   "outputs": [],
   "source": [
    "import networkx as nx\n",
    "import tree_utils\n",
    "import pickle"
   ]
  },
  {
   "cell_type": "markdown",
   "metadata": {},
   "source": [
    "### visualizing graphs\n",
    "first, we can create a grid graph and use the `draw()` function to look at it."
   ]
  },
  {
   "cell_type": "code",
   "execution_count": 2,
   "metadata": {},
   "outputs": [
    {
     "data": {
      "image/png": "[encoded data removed]",
      "text/plain": [
       "<Figure size 216x216 with 1 Axes>"
      ]
     },
     "metadata": {},
     "output_type": "display_data"
    }
   ],
   "source": [
    "graph = nx.grid_graph(dim=(3,3)) # change the dimensions of the graph, the plot will resize\n",
    "tree_utils.draw(graph)"
   ]
  },
  {
   "cell_type": "markdown",
   "metadata": {},
   "source": [
    "we can also add colors to the edges."
   ]
  },
  {
   "cell_type": "code",
   "execution_count": 4,
   "metadata": {},
   "outputs": [
    {
     "data": {
      "image/png": "[encoded data removed]",
      "text/plain": [
       "<Figure size 216x216 with 1 Axes>"
      ]
     },
     "metadata": {},
     "output_type": "display_data"
    }
   ],
   "source": [
    "# make all edges connected to node (1,1) red\n",
    "for u, v, data in graph.edges(data=True):\n",
    "    if (1,1) in (u,v): # make all edges connected to node (1,1) red\n",
    "        data['colors'] = 'red'\n",
    "    else:\n",
    "        data['colors'] = 'black'\n",
    "tree_utils.draw(graph, edge_colors='c')"
   ]
  },
  {
   "cell_type": "markdown",
   "metadata": {},
   "source": [
    "### drawing different spanning trees \n",
    "we can use the `uniform_random_spanning_tree()` function to draw USTs on a grid.\n",
    "\n",
    "adding the optional `delay` argument lets us reflect on the graph for a while."
   ]
  },
  {
   "cell_type": "code",
   "execution_count": 5,
   "metadata": {},
   "outputs": [
    {
     "data": {
      "image/png": "[encoded data removed]",
      "text/plain": [
       "<Figure size 360x216 with 1 Axes>"
      ]
     },
     "metadata": {},
     "output_type": "display_data"
    }
   ],
   "source": [
    "graph = nx.grid_graph(dim=(3,5))\n",
    "for i in range(20):\n",
    "    UST = tree_utils.uniform_random_spanning_tree(graph)\n",
    "    tree_utils.draw(UST, delay=.1)"
   ]
  },
  {
   "cell_type": "markdown",
   "metadata": {},
   "source": [
    "we can also use the `random_minimum_spanning_tree()` function to draw MSTs on the grid in the same way."
   ]
  },
  {
   "cell_type": "code",
   "execution_count": 6,
   "metadata": {},
   "outputs": [
    {
     "data": {
      "image/png": "[encoded data removed]",
      "text/plain": [
       "<Figure size 288x216 with 1 Axes>"
      ]
     },
     "metadata": {},
     "output_type": "display_data"
    }
   ],
   "source": [
    "graph = nx.grid_graph(dim=(3,4))\n",
    "for i in range(10):\n",
    "    MST = tree_utils.random_minimum_spanning_tree(graph)\n",
    "    tree_utils.draw(MST, delay=.1)"
   ]
  },
  {
   "cell_type": "markdown",
   "metadata": {},
   "source": [
    "### counting the number of spanning trees\n",
    "the `find_NST()` function computes the number of spanning trees that can be drawn on the graph. as currently implemented, it is only accurate up to 6x6 grids. **TODO: change this to Parker's function**"
   ]
  },
  {
   "cell_type": "code",
   "execution_count": 7,
   "metadata": {},
   "outputs": [
    {
     "name": "stdout",
     "output_type": "stream",
     "text": [
      "on a 4x4 grid: 100,352 \n",
      "   true value: 100,352\n",
      "on a 7x7 grid: 19,872,369,301,840,785,408 \n",
      "   true value: 19,872,369,301,840,986,112\n"
     ]
    }
   ],
   "source": [
    "graph = nx.grid_graph(dim=(4,4))\n",
    "num_4x4_STs = tree_utils.find_NST(graph)\n",
    "print(\"on a 4x4 grid: {:,} \\n   true value: 100,352\".format(num_4x4_STs))\n",
    "\n",
    "graph = nx.grid_graph(dim=(7,7))\n",
    "num_7x7_STs = tree_utils.find_NST(graph)\n",
    "print(\"on a 7x7 grid: {:,} \\n   true value: 19,872,369,301,840,986,112\".format(num_7x7_STs))"
   ]
  },
  {
   "cell_type": "markdown",
   "metadata": {},
   "source": [
    "### enumerating spanning trees on a grid\n",
    "we can enumerate all possible spanning trees (STs) on a grid like so:\n",
    "* consider a *seed* ST. \n",
    "* say that a *neighboring* ST of our seed ST is one that has precisely one edge in a different place.\n",
    "* find all the neighbors of our seed ST and store them as the *1-neighbors* of our seed ST.\n",
    "* loop through each 1-neighbor and start again, finding its own neighbors. if it has a neighbor we haven't seen before, store it as a *2-neighbor* of the ST.\n",
    "* loop through the 2-neighbors, etc., until the number of distinct *0-n neighbors* is the same as the number of STs we're looking for\n",
    "\n",
    "the function `enumerate_STs()` does the above work. the only required argument is the dimensions of the grid graph, but you can also let it randomize the seed by passing in a `seed=int` argument. it enumerates up to 3x3 grids nearly instantaneously, takes about 30s for a 3x4 grid, and about an hour and a half for a 4x4 grid. I've gotten it down to 35 minutes for 4x4 with some speedups, but open to new ideas..."
   ]
  },
  {
   "cell_type": "code",
   "execution_count": 8,
   "metadata": {},
   "outputs": [
    {
     "name": "stdout",
     "output_type": "stream",
     "text": [
      "0-neighbors: 1\n",
      "1-neighbors: 8\n",
      "2-neighbors: 6\n",
      "3-neighbors: 0\n",
      "---\n",
      "15 unique STs\n",
      "CPU times: user 47.6 ms, sys: 9.8 ms, total: 57.4 ms\n",
      "Wall time: 52.6 ms\n"
     ]
    }
   ],
   "source": [
    "%%time\n",
    "neighbors = tree_utils.enumerate_STs((2,3))"
   ]
  },
  {
   "cell_type": "markdown",
   "metadata": {},
   "source": [
    "then, we can unpack all the spanning trees into a list and sample from them, using either our UST or MST algorithms, in order to see their distributions"
   ]
  },
  {
   "cell_type": "code",
   "execution_count": 9,
   "metadata": {},
   "outputs": [],
   "source": [
    "STs = tree_utils.unpack_enumerated_STs(neighbors)"
   ]
  },
  {
   "cell_type": "code",
   "execution_count": 16,
   "metadata": {},
   "outputs": [],
   "source": [
    "num_trials = 100000"
   ]
  },
  {
   "cell_type": "code",
   "execution_count": 17,
   "metadata": {},
   "outputs": [
    {
     "name": "stderr",
     "output_type": "stream",
     "text": [
      "100%|██████████| 100000/100000 [00:34<00:00, 2873.39it/s]\n"
     ]
    }
   ],
   "source": [
    "UST_data = tree_utils.sample_STs(STs, \"UST\", num_trials)"
   ]
  },
  {
   "cell_type": "code",
   "execution_count": 18,
   "metadata": {},
   "outputs": [
    {
     "name": "stderr",
     "output_type": "stream",
     "text": [
      "100%|██████████| 100000/100000 [00:38<00:00, 2619.84it/s]\n"
     ]
    }
   ],
   "source": [
    "MST_data = tree_utils.sample_STs(STs, \"MST\", num_trials)"
   ]
  },
  {
   "cell_type": "code",
   "execution_count": 19,
   "metadata": {},
   "outputs": [
    {
     "data": {
      "image/png": "[encoded data removed]",
      "text/plain": [
       "<Figure size 1152x216 with 1 Axes>"
      ]
     },
     "metadata": {
      "needs_background": "light"
     },
     "output_type": "display_data"
    }
   ],
   "source": [
    "tree_utils.plot_sampled_STs(STs, UST_data)"
   ]
  },
  {
   "cell_type": "code",
   "execution_count": 20,
   "metadata": {},
   "outputs": [
    {
     "data": {
      "image/png": "[encoded data removed]",
      "text/plain": [
       "<Figure size 1152x216 with 1 Axes>"
      ]
     },
     "metadata": {
      "needs_background": "light"
     },
     "output_type": "display_data"
    }
   ],
   "source": [
    "tree_utils.plot_sampled_STs(STs, MST_data)"
   ]
  },
  {
   "cell_type": "markdown",
   "metadata": {},
   "source": [
    "## enumerating partitions on a grid\n",
    "we can use Zach Schutzman's [enumerator](https://github.com/zschutzman/enumerator) to generate a list of all possible partitions of an $n \\times n$ grid into $n$ equal parts. I have pre-computed these enumerations for $3 \\times 3$ - $6 \\times 6$ grids, and have stored them in `./enumerations/{n}x{n}_{n}.txt`. the function `make_partitions(n)` loads in those pre-computed lists and results in a list of all of these partitions. then, we can use the `sp_score()` and `cut_edges()` functions to compute the spanning tree and cut edges score for each partition. try it out below!"
   ]
  },
  {
   "cell_type": "code",
   "execution_count": 8,
   "metadata": {},
   "outputs": [
    {
     "name": "stdout",
     "output_type": "stream",
     "text": [
      "CPU times: user 407 ms, sys: 12 ms, total: 419 ms\n",
      "Wall time: 422 ms\n"
     ]
    }
   ],
   "source": [
    "%%time\n",
    "partitions = tree_utils.make_partitions(5) # 3-5 are instantaneous, 6 takes ~60s."
   ]
  },
  {
   "cell_type": "code",
   "execution_count": 9,
   "metadata": {},
   "outputs": [
    {
     "name": "stdout",
     "output_type": "stream",
     "text": [
      "       sp(part) = 1\n",
      "cut_edges(part) = 20\n"
     ]
    },
    {
     "data": {
      "image/png": "[encoded data removed]",
      "text/plain": [
       "<Figure size 360x360 with 1 Axes>"
      ]
     },
     "metadata": {},
     "output_type": "display_data"
    },
    {
     "ename": "KeyboardInterrupt",
     "evalue": "",
     "output_type": "error",
     "traceback": [
      "\u001b[0;31m---------------------------------------------------------------------------\u001b[0m",
      "\u001b[0;31mKeyboardInterrupt\u001b[0m                         Traceback (most recent call last)",
      "\u001b[0;32m<ipython-input-9-d6c08f4a3051>\u001b[0m in \u001b[0;36m<module>\u001b[0;34m\u001b[0m\n\u001b[1;32m      2\u001b[0m     \u001b[0mprint\u001b[0m\u001b[0;34m(\u001b[0m\u001b[0;34mf\"       sp(part) = {tree_utils.sp_score(partition)}\"\u001b[0m\u001b[0;34m)\u001b[0m\u001b[0;34m\u001b[0m\u001b[0;34m\u001b[0m\u001b[0m\n\u001b[1;32m      3\u001b[0m     \u001b[0mprint\u001b[0m\u001b[0;34m(\u001b[0m\u001b[0;34mf\"cut_edges(part) = {tree_utils.cut_edges(partition)}\"\u001b[0m\u001b[0;34m)\u001b[0m\u001b[0;34m\u001b[0m\u001b[0;34m\u001b[0m\u001b[0m\n\u001b[0;32m----> 4\u001b[0;31m     \u001b[0mtree_utils\u001b[0m\u001b[0;34m.\u001b[0m\u001b[0mdraw_plan\u001b[0m\u001b[0;34m(\u001b[0m\u001b[0mpartition\u001b[0m\u001b[0;34m,\u001b[0m \u001b[0mdelay\u001b[0m\u001b[0;34m=\u001b[0m\u001b[0;36m1\u001b[0m\u001b[0;34m)\u001b[0m\u001b[0;34m\u001b[0m\u001b[0;34m\u001b[0m\u001b[0m\n\u001b[0m",
      "\u001b[0;32m~/Desktop/mggg/trees/tree_utils.py\u001b[0m in \u001b[0;36mdraw_plan\u001b[0;34m(partition, delay)\u001b[0m\n\u001b[1;32m     49\u001b[0m             \u001b[0medges\u001b[0m\u001b[0;34m.\u001b[0m\u001b[0mappend\u001b[0m\u001b[0;34m(\u001b[0m\u001b[0medge\u001b[0m\u001b[0;34m)\u001b[0m\u001b[0;34m\u001b[0m\u001b[0;34m\u001b[0m\u001b[0m\n\u001b[1;32m     50\u001b[0m     \u001b[0mgraph\u001b[0m\u001b[0;34m.\u001b[0m\u001b[0mupdate\u001b[0m\u001b[0;34m(\u001b[0m\u001b[0medges\u001b[0m\u001b[0;34m=\u001b[0m\u001b[0medges\u001b[0m\u001b[0;34m)\u001b[0m\u001b[0;34m\u001b[0m\u001b[0;34m\u001b[0m\u001b[0m\n\u001b[0;32m---> 51\u001b[0;31m     \u001b[0mdraw\u001b[0m\u001b[0;34m(\u001b[0m\u001b[0mgraph\u001b[0m\u001b[0;34m,\u001b[0m \u001b[0mdelay\u001b[0m\u001b[0;34m=\u001b[0m\u001b[0mdelay\u001b[0m\u001b[0;34m)\u001b[0m\u001b[0;34m\u001b[0m\u001b[0;34m\u001b[0m\u001b[0m\n\u001b[0m\u001b[1;32m     52\u001b[0m     \u001b[0;32mreturn\u001b[0m\u001b[0;34m\u001b[0m\u001b[0;34m\u001b[0m\u001b[0m\n\u001b[1;32m     53\u001b[0m \u001b[0;34m\u001b[0m\u001b[0m\n",
      "\u001b[0;32m~/Desktop/mggg/trees/tree_utils.py\u001b[0m in \u001b[0;36mdraw\u001b[0;34m(graph, delay, edge_colors, node_colors)\u001b[0m\n\u001b[1;32m     37\u001b[0m            )\n\u001b[1;32m     38\u001b[0m     \u001b[0mplt\u001b[0m\u001b[0;34m.\u001b[0m\u001b[0mshow\u001b[0m\u001b[0;34m(\u001b[0m\u001b[0;34m)\u001b[0m\u001b[0;34m\u001b[0m\u001b[0;34m\u001b[0m\u001b[0m\n\u001b[0;32m---> 39\u001b[0;31m     \u001b[0mtime\u001b[0m\u001b[0;34m.\u001b[0m\u001b[0msleep\u001b[0m\u001b[0;34m(\u001b[0m\u001b[0mdelay\u001b[0m\u001b[0;34m)\u001b[0m\u001b[0;34m\u001b[0m\u001b[0;34m\u001b[0m\u001b[0m\n\u001b[0m\u001b[1;32m     40\u001b[0m     \u001b[0mclear_output\u001b[0m\u001b[0;34m(\u001b[0m\u001b[0mwait\u001b[0m\u001b[0;34m=\u001b[0m\u001b[0;32mTrue\u001b[0m\u001b[0;34m)\u001b[0m\u001b[0;34m\u001b[0m\u001b[0;34m\u001b[0m\u001b[0m\n\u001b[1;32m     41\u001b[0m     \u001b[0;32mreturn\u001b[0m\u001b[0;34m\u001b[0m\u001b[0;34m\u001b[0m\u001b[0m\n",
      "\u001b[0;31mKeyboardInterrupt\u001b[0m: "
     ]
    }
   ],
   "source": [
    "for partition in partitions:\n",
    "    print(f\"       sp(part) = {tree_utils.sp_score(partition)}\")\n",
    "    print(f\"cut_edges(part) = {tree_utils.cut_edges(partition)}\")\n",
    "    tree_utils.draw_plan(partition, delay=1)"
   ]
  },
  {
   "cell_type": "code",
   "execution_count": null,
   "metadata": {},
   "outputs": [],
   "source": []
  }
 ],
 "metadata": {
  "kernelspec": {
   "display_name": "Python 3",
   "language": "python",
   "name": "python3"
  },
  "language_info": {
   "codemirror_mode": {
    "name": "ipython",
    "version": 3
   },
   "file_extension": ".py",
   "mimetype": "text/x-python",
   "name": "python",
   "nbconvert_exporter": "python",
   "pygments_lexer": "ipython3",
   "version": "3.8.5"
  }
 },
 "nbformat": 4,
 "nbformat_minor": 4
}
