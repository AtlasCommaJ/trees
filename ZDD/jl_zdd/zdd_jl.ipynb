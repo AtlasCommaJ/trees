{
 "cells": [
  {
   "cell_type": "code",
   "execution_count": 1,
   "metadata": {},
   "outputs": [
    {
     "name": "stderr",
     "output_type": "stream",
     "text": [
      "\u001b[32m\u001b[1m Activating\u001b[22m\u001b[39m environment at `~/.julia/environments/zdd/Project.toml`\n"
     ]
    }
   ],
   "source": [
    "using Pkg; Pkg.activate(\"zdd\", shared=true)\n",
    "using LightGraphs\n",
    "using GraphPlot\n",
    "using Compose\n",
    "using Random\n",
    "using Traceur"
   ]
  },
  {
   "cell_type": "code",
   "execution_count": 138,
   "metadata": {},
   "outputs": [
    {
     "data": {
      "text/plain": [
       "add_zdd_node_and_edge! (generic function with 1 method)"
      ]
     },
     "execution_count": 138,
     "metadata": {},
     "output_type": "execute_result"
    }
   ],
   "source": [
    "# include(\"weightless_zdd.jl\")\n",
    "include(\"zdd.jl\")"
   ]
  },
  {
   "cell_type": "code",
   "execution_count": null,
   "metadata": {},
   "outputs": [],
   "source": [
    "# grid graph\n",
    "m = 7\n",
    "dims = [m, m]\n",
    "k = m\n",
    "d = 0\n",
    "contiguity = \"rook\"\n",
    "\n",
    "if contiguity == \"queen\"\n",
    "    g = queen_grid(dims)\n",
    "#     g_edges = optimal_queen_grid_edge_order(g, dims[1], dims[2])\n",
    "    g_edges = shuffle!(collect(edges(g)))\n",
    "else\n",
    "    g = grid(dims)\n",
    "    g_edges = optimal_grid_edge_order_diags(g, dims[1], dims[2])\n",
    "end\n",
    "\n",
    "g_edges = convert_lightgraphs_edges_to_node_edges(g_edges)\n",
    "@time zdd = construct_zdd(g, k, d, g_edges)\n",
    "nothing"
   ]
  },
  {
   "cell_type": "code",
   "execution_count": 144,
   "metadata": {},
   "outputs": [
    {
     "data": {
      "text/plain": [
       "451206"
      ]
     },
     "execution_count": 144,
     "metadata": {},
     "output_type": "execute_result"
    }
   ],
   "source": [
    "count_paths(zdd)"
   ]
  },
  {
   "cell_type": "code",
   "execution_count": 17,
   "metadata": {},
   "outputs": [
    {
     "data": {
      "text/plain": [
       "Node(NodeEdge(0x00, 0x00), UInt8[], UInt8[], 0x00, Set{ForbiddenPair}(), UInt8[])"
      ]
     },
     "execution_count": 17,
     "metadata": {},
     "output_type": "execute_result"
    }
   ],
   "source": [
    "n = Node(0)"
   ]
  },
  {
   "cell_type": "code",
   "execution_count": 21,
   "metadata": {},
   "outputs": [
    {
     "name": "stdout",
     "output_type": "stream",
     "text": [
      "Variables\n",
      "  #self#\u001b[36m::Core.Compiler.Const(adjust_node!, false)\u001b[39m\n",
      "  node\u001b[36m::Node\u001b[39m\n",
      "  vertex_comp\u001b[36m::UInt8\u001b[39m\n",
      "  fp_container\u001b[36m::Array{ForbiddenPair,1}\u001b[39m\n",
      "  #235\u001b[36m::var\"#235#237\"{UInt8}\u001b[39m\n",
      "  #236\u001b[36m::var\"#236#238\"{UInt8}\u001b[39m\n",
      "  lower_vertices\u001b[36m::Array{Int64,1}\u001b[39m\n",
      "  new_max\u001b[36m::Int64\u001b[39m\n",
      "  @_9\u001b[33m\u001b[1m::Union{Nothing, Tuple{Int64,Int64}}\u001b[22m\u001b[39m\n",
      "  @_10\u001b[33m\u001b[1m::Union{Nothing, Tuple{ForbiddenPair,Int64}}\u001b[22m\u001b[39m\n",
      "  @_11\u001b[33m\u001b[1m::Union{Nothing, Tuple{ForbiddenPair,Int64}}\u001b[22m\u001b[39m\n",
      "  v\u001b[36m::Int64\u001b[39m\n",
      "  fp@_13\u001b[36m::ForbiddenPair\u001b[39m\n",
      "  other\u001b[36m::UInt8\u001b[39m\n",
      "  fp@_15\u001b[36m::ForbiddenPair\u001b[39m\n",
      "\n",
      "Body\u001b[36m::Array{ForbiddenPair,1}\u001b[39m\n",
      "\u001b[90m1 ──\u001b[39m        Core.NewvarNode(:(#235))\n",
      "\u001b[90m│   \u001b[39m        Core.NewvarNode(:(#236))\n",
      "\u001b[90m│   \u001b[39m        Core.NewvarNode(:(lower_vertices))\n",
      "\u001b[90m│   \u001b[39m        Core.NewvarNode(:(new_max))\n",
      "\u001b[90m│   \u001b[39m        Core.NewvarNode(:(@_9))\n",
      "\u001b[90m│   \u001b[39m        Core.NewvarNode(:(@_10))\n",
      "\u001b[90m│   \u001b[39m        Core.NewvarNode(:(@_11))\n",
      "\u001b[90m│   \u001b[39m %8   = Base.getproperty(node, :comp_assign)\u001b[36m::Array{UInt8,1}\u001b[39m\n",
      "\u001b[90m│   \u001b[39m %9   = (vertex_comp in %8)\u001b[36m::Bool\u001b[39m\n",
      "\u001b[90m└───\u001b[39m        goto #17 if not %9\n",
      "\u001b[90m2 ──\u001b[39m %11  = Main.:(var\"#235#237\")\u001b[36m::Core.Compiler.Const(var\"#235#237\", false)\u001b[39m\n",
      "\u001b[90m│   \u001b[39m %12  = Core.typeof(vertex_comp)\u001b[36m::Core.Compiler.Const(UInt8, false)\u001b[39m\n",
      "\u001b[90m│   \u001b[39m %13  = Core.apply_type(%11, %12)\u001b[36m::Core.Compiler.Const(var\"#235#237\"{UInt8}, false)\u001b[39m\n",
      "\u001b[90m│   \u001b[39m        (#235 = %new(%13, vertex_comp))\n",
      "\u001b[90m│   \u001b[39m %15  = #235\u001b[36m::var\"#235#237\"{UInt8}\u001b[39m\n",
      "\u001b[90m│   \u001b[39m %16  = Base.getproperty(node, :comp_assign)\u001b[36m::Array{UInt8,1}\u001b[39m\n",
      "\u001b[90m│   \u001b[39m        (lower_vertices = Main.findall(%15, %16))\n",
      "\u001b[90m│   \u001b[39m        Main.println(lower_vertices)\n",
      "\u001b[90m│   \u001b[39m        (new_max = Main.maximum(lower_vertices))\n",
      "\u001b[90m│   \u001b[39m %20  = lower_vertices\u001b[36m::Array{Int64,1}\u001b[39m\n",
      "\u001b[90m│   \u001b[39m        (@_9 = Base.iterate(%20))\n",
      "\u001b[90m│   \u001b[39m %22  = (@_9 === nothing)\u001b[36m::Bool\u001b[39m\n",
      "\u001b[90m│   \u001b[39m %23  = Base.not_int(%22)\u001b[36m::Bool\u001b[39m\n",
      "\u001b[90m└───\u001b[39m        goto #5 if not %23\n",
      "\u001b[90m3 ┄─\u001b[39m %25  = @_9::Tuple{Int64,Int64}\u001b[36m::Tuple{Int64,Int64}\u001b[39m\n",
      "\u001b[90m│   \u001b[39m        (v = Core.getfield(%25, 1))\n",
      "\u001b[90m│   \u001b[39m %27  = Core.getfield(%25, 2)\u001b[36m::Int64\u001b[39m\n",
      "\u001b[90m│   \u001b[39m %28  = Base.getproperty(node, :comp_assign)\u001b[36m::Array{UInt8,1}\u001b[39m\n",
      "\u001b[90m│   \u001b[39m %29  = new_max\u001b[36m::Int64\u001b[39m\n",
      "\u001b[90m│   \u001b[39m        Base.setindex!(%28, %29, v)\n",
      "\u001b[90m│   \u001b[39m        (@_9 = Base.iterate(%20, %27))\n",
      "\u001b[90m│   \u001b[39m %32  = (@_9 === nothing)\u001b[36m::Bool\u001b[39m\n",
      "\u001b[90m│   \u001b[39m %33  = Base.not_int(%32)\u001b[36m::Bool\u001b[39m\n",
      "\u001b[90m└───\u001b[39m        goto #5 if not %33\n",
      "\u001b[90m4 ──\u001b[39m        goto #3\n",
      "\u001b[90m5 ┄─\u001b[39m %36  = Main.:(var\"#236#238\")\u001b[36m::Core.Compiler.Const(var\"#236#238\", false)\u001b[39m\n",
      "\u001b[90m│   \u001b[39m %37  = Core.typeof(vertex_comp)\u001b[36m::Core.Compiler.Const(UInt8, false)\u001b[39m\n",
      "\u001b[90m│   \u001b[39m %38  = Core.apply_type(%36, %37)\u001b[36m::Core.Compiler.Const(var\"#236#238\"{UInt8}, false)\u001b[39m\n",
      "\u001b[90m│   \u001b[39m        (#236 = %new(%38, vertex_comp))\n",
      "\u001b[90m│   \u001b[39m %40  = #236\u001b[36m::var\"#236#238\"{UInt8}\u001b[39m\n",
      "\u001b[90m│   \u001b[39m %41  = Base.getproperty(node, :comp)\u001b[36m::Array{UInt8,1}\u001b[39m\n",
      "\u001b[90m│   \u001b[39m        Main.filter!(%40, %41)\n",
      "\u001b[90m│   \u001b[39m %43  = Base.getproperty(node, :comp)\u001b[36m::Array{UInt8,1}\u001b[39m\n",
      "\u001b[90m│   \u001b[39m        Main.push!(%43, new_max)\n",
      "\u001b[90m│   \u001b[39m %45  = Base.getproperty(node, :comp)\u001b[36m::Array{UInt8,1}\u001b[39m\n",
      "\u001b[90m│   \u001b[39m        Main.sort!(%45)\n",
      "\u001b[90m│   \u001b[39m %47  = (new_max != vertex_comp)\u001b[36m::Bool\u001b[39m\n",
      "\u001b[90m└───\u001b[39m        goto #7 if not %47\n",
      "\u001b[90m6 ──\u001b[39m %49  = Base.getproperty(node, :comp_weights)\u001b[36m::Array{UInt8,1}\u001b[39m\n",
      "\u001b[90m│   \u001b[39m %50  = Base.getindex(%49, vertex_comp)\u001b[36m::UInt8\u001b[39m\n",
      "\u001b[90m│   \u001b[39m %51  = Base.getproperty(node, :comp_weights)\u001b[36m::Array{UInt8,1}\u001b[39m\n",
      "\u001b[90m│   \u001b[39m        Base.setindex!(%51, %50, new_max)\n",
      "\u001b[90m│   \u001b[39m %53  = Base.getproperty(node, :comp_weights)\u001b[36m::Array{UInt8,1}\u001b[39m\n",
      "\u001b[90m└───\u001b[39m        Base.setindex!(%53, 0, vertex_comp)\n",
      "\u001b[90m7 ┄─\u001b[39m %55  = Base.getproperty(node, :fps)\u001b[36m::Set{ForbiddenPair}\u001b[39m\n",
      "\u001b[90m│   \u001b[39m        (@_10 = Base.iterate(%55))\n",
      "\u001b[90m│   \u001b[39m %57  = (@_10 === nothing)\u001b[36m::Bool\u001b[39m\n",
      "\u001b[90m│   \u001b[39m %58  = Base.not_int(%57)\u001b[36m::Bool\u001b[39m\n",
      "\u001b[90m└───\u001b[39m        goto #14 if not %58\n",
      "\u001b[90m8 ┄─\u001b[39m        Core.NewvarNode(:(other))\n",
      "\u001b[90m│   \u001b[39m %61  = @_10::Tuple{ForbiddenPair,Int64}\u001b[36m::Tuple{ForbiddenPair,Int64}\u001b[39m\n",
      "\u001b[90m│   \u001b[39m        (fp@_13 = Core.getfield(%61, 1))\n",
      "\u001b[90m│   \u001b[39m %63  = Core.getfield(%61, 2)\u001b[36m::Int64\u001b[39m\n",
      "\u001b[90m│   \u001b[39m %64  = Base.getproperty(fp@_13, :comp₁)\u001b[36m::UInt8\u001b[39m\n",
      "\u001b[90m│   \u001b[39m %65  = (vertex_comp == %64)\u001b[36m::Bool\u001b[39m\n",
      "\u001b[90m└───\u001b[39m        goto #10 if not %65\n",
      "\u001b[90m9 ──\u001b[39m        (other = Base.getproperty(fp@_13, :comp₂))\n",
      "\u001b[90m│   \u001b[39m %68  = Base.getproperty(node, :fps)\u001b[36m::Set{ForbiddenPair}\u001b[39m\n",
      "\u001b[90m│   \u001b[39m        Main.delete!(%68, fp@_13)\n",
      "\u001b[90m│   \u001b[39m %70  = Main.min(new_max, other)\u001b[36m::Int64\u001b[39m\n",
      "\u001b[90m│   \u001b[39m %71  = Main.max(new_max, other)\u001b[36m::Int64\u001b[39m\n",
      "\u001b[90m│   \u001b[39m %72  = Main.ForbiddenPair(%70, %71)\u001b[36m::ForbiddenPair\u001b[39m\n",
      "\u001b[90m│   \u001b[39m        Main.push!(fp_container, %72)\n",
      "\u001b[90m└───\u001b[39m        goto #12\n",
      "\u001b[90m10 ─\u001b[39m %75  = Base.getproperty(fp@_13, :comp₂)\u001b[36m::UInt8\u001b[39m\n",
      "\u001b[90m│   \u001b[39m %76  = (vertex_comp == %75)\u001b[36m::Bool\u001b[39m\n",
      "\u001b[90m└───\u001b[39m        goto #12 if not %76\n",
      "\u001b[90m11 ─\u001b[39m        (other = Base.getproperty(fp@_13, :comp₁))\n",
      "\u001b[90m│   \u001b[39m %79  = Base.getproperty(node, :fps)\u001b[36m::Set{ForbiddenPair}\u001b[39m\n",
      "\u001b[90m│   \u001b[39m        Main.delete!(%79, fp@_13)\n",
      "\u001b[90m│   \u001b[39m %81  = Main.min(new_max, other)\u001b[36m::Int64\u001b[39m\n",
      "\u001b[90m│   \u001b[39m %82  = Main.max(new_max, other)\u001b[36m::Int64\u001b[39m\n",
      "\u001b[90m│   \u001b[39m %83  = Main.ForbiddenPair(%81, %82)\u001b[36m::ForbiddenPair\u001b[39m\n",
      "\u001b[90m└───\u001b[39m        Main.push!(fp_container, %83)\n",
      "\u001b[90m12 ┄\u001b[39m        (@_10 = Base.iterate(%55, %63))\n",
      "\u001b[90m│   \u001b[39m %86  = (@_10 === nothing)\u001b[36m::Bool\u001b[39m\n",
      "\u001b[90m│   \u001b[39m %87  = Base.not_int(%86)\u001b[36m::Bool\u001b[39m\n",
      "\u001b[90m└───\u001b[39m        goto #14 if not %87\n",
      "\u001b[90m13 ─\u001b[39m        goto #8\n",
      "\u001b[90m14 ┄\u001b[39m %90  = fp_container\u001b[36m::Array{ForbiddenPair,1}\u001b[39m\n",
      "\u001b[90m│   \u001b[39m        (@_11 = Base.iterate(%90))\n",
      "\u001b[90m│   \u001b[39m %92  = (@_11 === nothing)\u001b[36m::Bool\u001b[39m\n",
      "\u001b[90m│   \u001b[39m %93  = Base.not_int(%92)\u001b[36m::Bool\u001b[39m\n",
      "\u001b[90m└───\u001b[39m        goto #17 if not %93\n",
      "\u001b[90m15 ┄\u001b[39m %95  = @_11::Tuple{ForbiddenPair,Int64}\u001b[36m::Tuple{ForbiddenPair,Int64}\u001b[39m\n",
      "\u001b[90m│   \u001b[39m        (fp@_15 = Core.getfield(%95, 1))\n",
      "\u001b[90m│   \u001b[39m %97  = Core.getfield(%95, 2)\u001b[36m::Int64\u001b[39m\n",
      "\u001b[90m│   \u001b[39m %98  = Base.getproperty(node, :fps)\u001b[36m::Set{ForbiddenPair}\u001b[39m\n",
      "\u001b[90m│   \u001b[39m        Main.push!(%98, fp@_15)\n",
      "\u001b[90m│   \u001b[39m        (@_11 = Base.iterate(%90, %97))\n",
      "\u001b[90m│   \u001b[39m %101 = (@_11 === nothing)\u001b[36m::Bool\u001b[39m\n",
      "\u001b[90m│   \u001b[39m %102 = Base.not_int(%101)\u001b[36m::Bool\u001b[39m\n",
      "\u001b[90m└───\u001b[39m        goto #17 if not %102\n",
      "\u001b[90m16 ─\u001b[39m        goto #15\n",
      "\u001b[90m17 ┄\u001b[39m %105 = Main.empty!(fp_container)\u001b[36m::Array{ForbiddenPair,1}\u001b[39m\n",
      "\u001b[90m└───\u001b[39m        return %105\n"
     ]
    }
   ],
   "source": [
    "@code_warntype adjust_node!(n, UInt8(5), Vector{ForbiddenPair}())"
   ]
  },
  {
   "cell_type": "code",
   "execution_count": 58,
   "metadata": {},
   "outputs": [
    {
     "data": {
      "text/plain": [
       "80"
      ]
     },
     "execution_count": 58,
     "metadata": {},
     "output_type": "execute_result"
    }
   ],
   "source": [
    "@allocated Array{Nothing, 1}()"
   ]
  },
  {
   "cell_type": "code",
   "execution_count": 61,
   "metadata": {},
   "outputs": [
    {
     "data": {
      "text/plain": [
       "96"
      ]
     },
     "execution_count": 61,
     "metadata": {},
     "output_type": "execute_result"
    }
   ],
   "source": [
    "@allocated Vector{UInt8}(undef, 0)"
   ]
  },
  {
   "cell_type": "code",
   "execution_count": null,
   "metadata": {},
   "outputs": [],
   "source": []
  }
 ],
 "metadata": {
  "kernelspec": {
   "display_name": "Julia 1.5.3",
   "language": "julia",
   "name": "julia-1.5"
  },
  "language_info": {
   "file_extension": ".jl",
   "mimetype": "application/julia",
   "name": "julia",
   "version": "1.5.3"
  }
 },
 "nbformat": 4,
 "nbformat_minor": 4
}
