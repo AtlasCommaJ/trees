{
 "cells": [
  {
   "cell_type": "code",
   "execution_count": 1,
   "metadata": {},
   "outputs": [
    {
     "name": "stderr",
     "output_type": "stream",
     "text": [
      "\u001b[32m\u001b[1m Activating\u001b[22m\u001b[39m environment at `~/.julia/environments/zdd/Project.toml`\n"
     ]
    }
   ],
   "source": [
    "using Pkg; Pkg.activate(\"zdd\", shared=true)\n",
    "using LightGraphs\n",
    "using GraphPlot\n",
    "using Compose\n",
    "using Random\n",
    "using Traceur\n",
    "using BenchmarkTools"
   ]
  },
  {
   "cell_type": "code",
   "execution_count": 25,
   "metadata": {},
   "outputs": [
    {
     "data": {
      "text/plain": [
       "add_zdd_edge! (generic function with 1 method)"
      ]
     },
     "execution_count": 25,
     "metadata": {},
     "output_type": "execute_result"
    }
   ],
   "source": [
    "# include(\"weightless_zdd.jl\")\n",
    "include(\"zdd.jl\")"
   ]
  },
  {
   "cell_type": "code",
   "execution_count": 44,
   "metadata": {},
   "outputs": [
    {
     "name": "stdout",
     "output_type": "stream",
     "text": [
      "  1.204108 seconds (482.53 k allocations: 112.217 MiB)\n"
     ]
    }
   ],
   "source": [
    "# grid graph\n",
    "m = 6\n",
    "dims = [m, m]\n",
    "k = m\n",
    "d = 0\n",
    "contiguity = \"rook\"\n",
    "\n",
    "if contiguity == \"queen\"\n",
    "    g = queen_grid(dims)\n",
    "#     g_edges = optimal_queen_grid_edge_order(g, dims[1], dims[2])\n",
    "    g_edges = shuffle!(collect(edges(g)))\n",
    "else\n",
    "    g = grid(dims)\n",
    "    g_edges = optimal_grid_edge_order_diags(g, dims[1], dims[2])\n",
    "end\n",
    "\n",
    "g_edges = convert_lightgraphs_edges_to_node_edges(g_edges)\n",
    "@time zdd = construct_zdd(g, k, d, g_edges)\n",
    "nothing"
   ]
  },
  {
   "cell_type": "code",
   "execution_count": 45,
   "metadata": {},
   "outputs": [
    {
     "data": {
      "text/plain": [
       "451206"
      ]
     },
     "execution_count": 45,
     "metadata": {},
     "output_type": "execute_result"
    }
   ],
   "source": [
    "count_paths(zdd)"
   ]
  },
  {
   "cell_type": "code",
   "execution_count": 43,
   "metadata": {},
   "outputs": [
    {
     "data": {
      "text/plain": [
       "17063144"
      ]
     },
     "execution_count": 43,
     "metadata": {},
     "output_type": "execute_result"
    }
   ],
   "source": [
    "length(zdd.graph)"
   ]
  },
  {
   "cell_type": "code",
   "execution_count": null,
   "metadata": {},
   "outputs": [],
   "source": []
  },
  {
   "cell_type": "code",
   "execution_count": null,
   "metadata": {},
   "outputs": [],
   "source": []
  }
 ],
 "metadata": {
  "kernelspec": {
   "display_name": "Julia 1.5.3",
   "language": "julia",
   "name": "julia-1.5"
  },
  "language_info": {
   "file_extension": ".jl",
   "mimetype": "application/julia",
   "name": "julia",
   "version": "1.5.3"
  }
 },
 "nbformat": 4,
 "nbformat_minor": 4
}
