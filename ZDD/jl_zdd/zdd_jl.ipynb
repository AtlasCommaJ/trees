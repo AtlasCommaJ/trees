{
 "cells": [
  {
   "cell_type": "code",
   "execution_count": 1,
   "metadata": {},
   "outputs": [
    {
     "name": "stderr",
     "output_type": "stream",
     "text": [
      "\u001b[32m\u001b[1m Activating\u001b[22m\u001b[39m environment at `~/.julia/environments/zdd/Project.toml`\n"
     ]
    }
   ],
   "source": [
    "using Pkg; Pkg.activate(\"zdd\", shared=true)\n",
    "using LightGraphs\n",
    "using GraphPlot\n",
    "using Compose\n",
    "using Random\n",
    "using Traceur"
   ]
  },
  {
   "cell_type": "code",
   "execution_count": 5,
   "metadata": {},
   "outputs": [
    {
     "data": {
      "text/plain": [
       "add_zdd_node_and_edge! (generic function with 1 method)"
      ]
     },
     "execution_count": 5,
     "metadata": {},
     "output_type": "execute_result"
    }
   ],
   "source": [
    "include(\"zdd.jl\")"
   ]
  },
  {
   "cell_type": "code",
   "execution_count": 12,
   "metadata": {},
   "outputs": [
    {
     "name": "stdout",
     "output_type": "stream",
     "text": [
      "  0.026068 seconds (120.90 k allocations: 10.934 MiB)\n"
     ]
    }
   ],
   "source": [
    "# grid graph\n",
    "m = 3\n",
    "dims = [m, m]\n",
    "k = m\n",
    "d = 0\n",
    "contiguity = \"queen\"\n",
    "\n",
    "if contiguity == \"queen\"\n",
    "    g = queen_grid(dims)\n",
    "#     g_edges = optimal_queen_grid_edge_order(g, dims[1], dims[2])\n",
    "    g_edges = shuffle!(collect(edges(g)))\n",
    "else\n",
    "    g = grid(dims)\n",
    "    g_edges = optimal_grid_edge_order(g, dims[1], dims[2])\n",
    "end\n",
    "\n",
    "g_edges = convert_lightgraphs_edges_to_node_edges(g_edges)\n",
    "\n",
    "@time zdd = construct_zdd(g, k, d, g_edges)\n",
    "nothing"
   ]
  },
  {
   "cell_type": "code",
   "execution_count": 13,
   "metadata": {},
   "outputs": [
    {
     "data": {
      "text/plain": [
       "36"
      ]
     },
     "execution_count": 13,
     "metadata": {},
     "output_type": "execute_result"
    }
   ],
   "source": [
    "count_paths(zdd)"
   ]
  },
  {
   "cell_type": "code",
   "execution_count": null,
   "metadata": {},
   "outputs": [],
   "source": [
    "four_pm0 = enumerate_paths(zdd, g_edges); nothing"
   ]
  },
  {
   "cell_type": "code",
   "execution_count": null,
   "metadata": {},
   "outputs": [],
   "source": [
    "set6 = Set(four_pm6)\n",
    "set7 = Set(four_pm7)\n",
    "set5 = Set(four_pm5)\n",
    "set4 = Set(four_pm4); nothing\n",
    "set3 = Set(four_pm3); nothing\n",
    "set2 = Set(four_pm2); nothing\n",
    "set1 = Set(four_pm1); nothing\n",
    "set0 = Set(four_pm0); nothing"
   ]
  },
  {
   "cell_type": "code",
   "execution_count": null,
   "metadata": {},
   "outputs": [],
   "source": [
    "diff = setdiff(set1, set0); nothing"
   ]
  },
  {
   "cell_type": "code",
   "execution_count": null,
   "metadata": {},
   "outputs": [],
   "source": [
    "diff_array = collect(diff); nothing"
   ]
  },
  {
   "cell_type": "code",
   "execution_count": null,
   "metadata": {},
   "outputs": [],
   "source": [
    "function check_pieces(g::LightGraphs.SimpleGraph, k::Int, d::Int, edges_list::Array{Array{LightGraphs.SimpleGraphs.SimpleEdge{Int},1},1})\n",
    "    for kept_edges ∈ edges_list\n",
    "        ### make subgraph ###\n",
    "        subgraph = queen_grid(dims)\n",
    "        original_edges = collect(edges(subgraph))\n",
    "        for edge ∈ original_edges\n",
    "            if edge ∉ kept_edges\n",
    "                rem_edge!(subgraph, edge.src, edge.dst)\n",
    "            end\n",
    "        end\n",
    "        \n",
    "        \n",
    "        weights = collect(map(x->length(x), connected_components(subgraph)))\n",
    "        print(weights)\n",
    "#         lower_bound = Int(sum(weights) / k) - d\n",
    "#         upper_bound = Int(sum(weights) / k) + d\n",
    "#         @assert nv(subgraph) == nv(g)\n",
    "# #         @assert minimum(weights) >= lower_bound\n",
    "# #         @assert maximum(weights) <= upper_bound\n",
    "# #         println(weights)\n",
    "        if 8 ∈ weights\n",
    "#             println(weights)\n",
    "#             println(connected_components(subgraph))\n",
    "            println(\" - \", connected_components(subgraph))\n",
    "            for edge ∈ edges(subgraph)\n",
    "                println(edge)\n",
    "            end\n",
    "#             println(\"\")\n",
    "#             return gplot(subgraph)\n",
    "        else\n",
    "            print(\"\\n\")\n",
    "        end\n",
    "    end\n",
    "end"
   ]
  },
  {
   "cell_type": "code",
   "execution_count": null,
   "metadata": {},
   "outputs": [],
   "source": [
    "check_pieces(g, k, 4, diff_array)"
   ]
  },
  {
   "cell_type": "code",
   "execution_count": null,
   "metadata": {},
   "outputs": [],
   "source": [
    "check_pieces(g, k, 2, three_pm2)"
   ]
  },
  {
   "cell_type": "code",
   "execution_count": null,
   "metadata": {},
   "outputs": [],
   "source": [
    "g = grid([3, 3])\n",
    "root_edge = NodeEdge(1, 2)\n",
    "root = Node(root_edge, g)\n",
    "zdd = ZDD(g, root)"
   ]
  },
  {
   "cell_type": "code",
   "execution_count": null,
   "metadata": {},
   "outputs": [],
   "source": [
    "new_node = Node(NodeEdge(3, 4), g)\n",
    "@code_warntype add_zdd_node_and_edge!(zdd, new_node, root, 3)"
   ]
  },
  {
   "cell_type": "code",
   "execution_count": null,
   "metadata": {},
   "outputs": [],
   "source": [
    "new_node = Node(NodeEdge(3, 4), g)\n",
    "prev_frontier = Set{UInt8}([1, 2, 3, 4])\n",
    "\n",
    "@code_warntype add_vertex_as_component!(new_node, minimum(prev_frontier), prev_frontier)"
   ]
  },
  {
   "cell_type": "code",
   "execution_count": null,
   "metadata": {},
   "outputs": [],
   "source": [
    "k = Array{Int, 1}([1, 2, 3])\n",
    "sizeof(k)"
   ]
  },
  {
   "cell_type": "code",
   "execution_count": null,
   "metadata": {},
   "outputs": [],
   "source": [
    "sizehint!(k, 10)\n",
    "sizeof(k)"
   ]
  },
  {
   "cell_type": "code",
   "execution_count": null,
   "metadata": {},
   "outputs": [],
   "source": []
  }
 ],
 "metadata": {
  "kernelspec": {
   "display_name": "Julia 1.5.3",
   "language": "julia",
   "name": "julia-1.5"
  },
  "language_info": {
   "file_extension": ".jl",
   "mimetype": "application/julia",
   "name": "julia",
   "version": "1.5.3"
  }
 },
 "nbformat": 4,
 "nbformat_minor": 4
}
