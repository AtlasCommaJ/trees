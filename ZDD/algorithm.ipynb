{
 "cells": [
  {
   "cell_type": "code",
   "execution_count": 684,
   "metadata": {},
   "outputs": [],
   "source": [
    "import networkx as nx\n",
    "import copy\n",
    "from IPython.display import clear_output\n",
    "import time\n",
    "import matplotlib.pyplot as plt\n",
    "import random\n",
    "from tqdm import tqdm"
   ]
  },
  {
   "cell_type": "code",
   "execution_count": 343,
   "metadata": {},
   "outputs": [],
   "source": [
    "class Node:\n",
    "    '''\n",
    "    We want our node to have:\n",
    "        - An edge label, e_i = (v, w)\n",
    "        - A cc number\n",
    "        - A comp set\n",
    "        - A fps set\n",
    "        - (more? maybe F_i?)\n",
    "    '''\n",
    "    def __init__(self, edge, cc=0, comp=set(), fps=set()):\n",
    "        self.edge = edge\n",
    "        self.cc = cc # are we sure we want to initialize to 0?\n",
    "        self.comp = comp\n",
    "        self.fps = fps\n",
    "    \n",
    "    def summary(self):\n",
    "        print(f\" -- Node {self.edge}\")\n",
    "        print(f\" --   cc {self.cc}\")\n",
    "        print(f\" -- comp {self.comp}\")\n",
    "        print(f\" --  fps {self.fps}\")\n",
    "        return"
   ]
  },
  {
   "cell_type": "code",
   "execution_count": 344,
   "metadata": {},
   "outputs": [],
   "source": [
    "def tup(l):\n",
    "    return tuple(sorted(l))\n",
    "\n",
    "def tupUnion(s, t):\n",
    "    return tup(set(s).union(set(t)))"
   ]
  },
  {
   "cell_type": "code",
   "execution_count": 761,
   "metadata": {},
   "outputs": [],
   "source": [
    "def makeNewNode(edges, K, n, i, x):\n",
    "    v, w = n.edge\n",
    "    m = len(edges)\n",
    "    n_prime = copy.deepcopy(n)\n",
    "    \n",
    "    if (v, w) == (-1, -1):\n",
    "#         print(\"We're done!\")\n",
    "        return 0\n",
    "\n",
    "    # construct the frontiers\n",
    "    def constructFrontiers(edges, i):\n",
    "        m = len(edges)\n",
    "        if i == 0:\n",
    "            prevFrontier = set()\n",
    "        else:\n",
    "            processed_edges = [set(edges[j]) for j in range(i)]\n",
    "            unprocessed_edges = [set(edges[j]) for j in range(i, m)]\n",
    "            prevFrontier = set().union(*processed_edges) & set().union(*unprocessed_edges)\n",
    "        \n",
    "        if i == m:\n",
    "            currFrontier = set()\n",
    "        else:\n",
    "            processed_edges = [set(edges[j]) for j in range(i+1)]\n",
    "            unprocessed_edges = [set(edges[j]) for j in range(i+1, m)]\n",
    "            currFrontier = set().union(*processed_edges) & set().union(*unprocessed_edges)\n",
    "        return prevFrontier, currFrontier\n",
    "    \n",
    "    prevFrontier, currFrontier = constructFrontiers(edges, i)\n",
    "    \n",
    "#     print(f\"prevFrontier = {prevFrontier}\\ncurrFrontier={currFrontier}\")\n",
    "\n",
    "    # if either of the vertices are entering the frontier, add them to comp\n",
    "    for u in (v, w):\n",
    "        if u not in prevFrontier:\n",
    "            n_prime.comp.add(tup([u]))\n",
    "    for vertex_set in n_prime.comp:\n",
    "        if v in vertex_set:\n",
    "            C_v = copy.copy(vertex_set) # not sure if copy is needed\n",
    "        if w in vertex_set:\n",
    "            C_w = copy.copy(vertex_set)\n",
    "\n",
    "#     print(f\"C_v = {C_v}, C_w = {C_w}\")\n",
    "\n",
    "    # if we are adding this edge, the components should now be connected\n",
    "    if x == 1:\n",
    "        n_prime.comp.discard(C_v) # remove x if it exists\n",
    "        n_prime.comp.discard(C_w)\n",
    "        n_prime.comp.add(tupUnion(C_v, C_w))\n",
    "        # if they are a forbidden pair, return 0\n",
    "        if C_v != C_w and tup((C_v, C_w)) in n_prime.fps: # check ordering is ok\n",
    "#             print(f\"FOUND A FORBIDDEN PAIR -- {C_v, C_w}\")\n",
    "            return 0\n",
    "        # otherwise, replace all instances of C_v/C_w with their union in the fps\n",
    "        else:\n",
    "            fps_list = list(n_prime.fps)\n",
    "            for elem in fps_list:\n",
    "                new_elem = set(elem)\n",
    "                if C_v in new_elem or C_w in new_elem:\n",
    "                    if C_v in new_elem:\n",
    "                        new_elem.remove(C_v)\n",
    "                        new_elem.add(tupUnion(C_v, C_w))\n",
    "                    if C_w in elem:\n",
    "                        new_elem.remove(C_w)\n",
    "                        new_elem.add(tupUnion(C_v, C_w)) # check to see if this doubling is ok\n",
    "                    new_elem = tup(new_elem)\n",
    "                    n_prime.fps.remove(elem)\n",
    "                    n_prime.fps.add(new_elem)\n",
    "                    \n",
    "    else:\n",
    "        # if we aren't adding this edge and the components are connected,\n",
    "        # this violates induced subgraph, so return 0\n",
    "        if C_v == C_w:\n",
    "            return 0\n",
    "        # if they aren't connected, add their connected components to the fps\n",
    "        else:\n",
    "            n_prime.fps.add(tup((C_v, C_w)))\n",
    "            \n",
    "#     print(f\"Vertices in prevFrontier: {prevFrontier}\")\n",
    "            \n",
    "    \n",
    "    # if either of the vertices are leaving the frontier...\n",
    "    for u in (v, w):\n",
    "        if u not in currFrontier:\n",
    "            # if u is an isolated component, increment our cc by 1\n",
    "            if tup([u]) in n_prime.comp:\n",
    "                n_prime.cc += 1\n",
    "                # remove it from the range of the comp or fps's views...\n",
    "                n_prime.comp.remove(tup([u]))\n",
    "                # if we have too many cc's, return 0\n",
    "                if n_prime.cc > max(K):\n",
    "                    return 0\n",
    "            \n",
    "            # if u is a part of a connected component, take it out\n",
    "            comp_list = list(n_prime.comp)\n",
    "            for elem in comp_list:\n",
    "                if u in elem:\n",
    "                    new_elem = set(elem)\n",
    "                    new_elem.remove(u)\n",
    "                    new_elem = tup(new_elem)\n",
    "                    n_prime.comp.remove(elem)\n",
    "                    n_prime.comp.add(new_elem)\n",
    "            \n",
    "            # if {{u}, X} is in n_prime.fps for any X in n_prime.comp, take it out\n",
    "            fps_list = list(n_prime.fps)\n",
    "            for elem in fps_list:\n",
    "                if tup([u]) in elem:\n",
    "                    n_prime.fps.remove(elem)\n",
    "                # same with u if it is a part of a vertex set in fps — this might be unnecessary or WRONG\n",
    "                for vertex_set in elem:\n",
    "                    if len(vertex_set) > 1 and u in vertex_set:\n",
    "                        new_elem = set(elem)\n",
    "                        for vertex_set in elem:\n",
    "                            if len(vertex_set) > 1 and u in vertex_set:\n",
    "                                new_vertex_set = set(vertex_set)\n",
    "                                new_vertex_set.remove(u)\n",
    "                                new_elem.remove(vertex_set)\n",
    "                                new_elem.add(tup(new_vertex_set))\n",
    "                                new_elem = tup(new_elem)\n",
    "                        n_prime.fps.remove(elem)\n",
    "                        n_prime.fps.add(new_elem)\n",
    "                        \n",
    "    # if we are on the last edge, check to see if we have partitioned\n",
    "    # the graph into the right number of cells\n",
    "    if i == (m-1): # why is it m-1 that works?\n",
    "        if n_prime.cc in K:\n",
    "#             print(f\"At {n.summary()}, we are going to {1} with an {x}-arc\")\n",
    "            return 1\n",
    "        else:\n",
    "            return 0\n",
    "        \n",
    "    return n_prime\n",
    "\n",
    "# this is def not as fast as it could or should be\n",
    "def count_paths(ZDD, node_labels, edge_labels, pos):\n",
    "    p = {0: 0, 1:1} # initialize paths at 0, 1 terminal nodes\n",
    "    for n in tqdm(reversed(list(ZDD.nodes))):\n",
    "        if n == 0 or n == 1:\n",
    "            continue\n",
    "#         print(p)\n",
    "#         print(f\"Node is {n}\")\n",
    "        count = 0\n",
    "        for edge in edge_labels.keys():\n",
    "            if edge[0] == n:\n",
    "                count += p[edge[1]]\n",
    "        p[n] = count\n",
    "    \n",
    "    return max(p.values())"
   ]
  },
  {
   "cell_type": "code",
   "execution_count": 810,
   "metadata": {},
   "outputs": [],
   "source": [
    "def initialize_ZDD(Nodes):\n",
    "    ZDD = nx.Graph()\n",
    "    node_labels, edge_labels, pos = {}, {}, {}\n",
    "    first_node = Nodes[0][0]\n",
    "    ZDD.add_node(first_node)\n",
    "    node_labels[first_node] = \"e_1\"\n",
    "    pos[first_node] = (8,10)\n",
    "    return ZDD, node_labels, edge_labels, pos\n",
    "\n",
    "def add_terminal_nodes(ZDD, node_labels, pos):\n",
    "    ZDD.add_nodes_from([0, 1])\n",
    "    node_labels.update({node:label for (node, label) in zip(range(2), [\"0\", \"1\"])})\n",
    "    pos.update({node:coord for (node, coord) in zip(range(2), [(7,0), (9,0)])})\n",
    "#     return ZDD, node_labels, pos\n",
    "\n",
    "def add_edge(n, n_prime, x, ZDD, edge_labels):\n",
    "    ZDD.add_edge(n, n_prime)\n",
    "    edge_labels[(n, n_prime)] = f\"{x}\"\n",
    "    return\n",
    "\n",
    "def add_node(n, n_prime, x, i, ZDD, node_labels, edge_labels, pos):\n",
    "    width = 1/(i+1)\n",
    "    xPos = width if x else -width\n",
    "    ZDD.add_node(n_prime)\n",
    "    node_labels[n_prime] = f\"e_{i+2}\"\n",
    "    pos[n_prime] = (pos[n][0] + xPos, 9-i)\n",
    "    add_edge(n, n_prime, x, ZDD, edge_labels)\n",
    "    return\n",
    "    \n",
    "def draw_ZDD(ZDD, node_labels, edge_labels, pos):\n",
    "    plt.figure(figsize=(10,10))\n",
    "    clear_output(wait=True)\n",
    "    chosen_edges = []\n",
    "    unchosen_edges = []\n",
    "    edge_types_styles = [\"dashed\", \"solid\"]\n",
    "    for edge in ZDD.edges:\n",
    "        try:\n",
    "            chosen = edge_labels[edge] == \"1\"\n",
    "        except:\n",
    "            chosen = edge_labels[edge[1], edge[0]] == \"1\"\n",
    "        if chosen:\n",
    "            chosen_edges.append(edge)\n",
    "        else:\n",
    "            unchosen_edges.append(edge)\n",
    "    \n",
    "    nx.draw(ZDD, \n",
    "            pos=pos, \n",
    "            labels=node_labels, \n",
    "            edgelist=[], \n",
    "            node_size=500, \n",
    "            node_color=\"silver\")\n",
    "    if 0 in node_labels.keys():\n",
    "         nx.draw(ZDD, \n",
    "            pos=pos, \n",
    "            labels=node_labels, \n",
    "            edgelist=[], \n",
    "            nodelist=[0,1],\n",
    "            node_size=1000, \n",
    "            node_color=\"red\",\n",
    "            node_shape=\"s\")\n",
    "    for i, edgelist in enumerate([unchosen_edges, chosen_edges]):\n",
    "        nx.draw_networkx_edges(ZDD, \n",
    "                               pos=pos, \n",
    "                               edgelist=edgelist, \n",
    "                               style=edge_types_styles[i], \n",
    "                               width=2)\n",
    "    plt.show()\n",
    "    time.sleep(0)\n",
    "    return"
   ]
  },
  {
   "cell_type": "code",
   "execution_count": 815,
   "metadata": {},
   "outputs": [],
   "source": [
    "def constructZDD(G, seed=0):\n",
    "    random.seed(seed)\n",
    "    m = len(G.edges)\n",
    "    edges = list(G.edges)\n",
    "#     random.shuffle(edges) # this should show that the order of the edges can change the speed of the algo.\n",
    "    Nodes = [copy.deepcopy([]) for _ in range(m)]\n",
    "    Nodes[0].append(Node(edges[0]))\n",
    "    ZDD, node_labels, edge_labels, pos = initialize_ZDD(Nodes)\n",
    "    for i in tqdm(range(0, m)):\n",
    "        for n in Nodes[i]:\n",
    "            for x in [0, 1]:\n",
    "                n_prime = makeNewNode(edges, [2], n, i, x)\n",
    "                \n",
    "                if n_prime == 0 or n_prime == 1:\n",
    "                    if 0 not in ZDD.nodes:\n",
    "                        add_terminal_nodes(ZDD, node_labels, pos)\n",
    "                    add_edge(n, n_prime, x, ZDD, edge_labels)\n",
    "                else:\n",
    "                    n_prime = Node(edges[i+1], n_prime.cc, n_prime.comp, n_prime.fps)\n",
    "                    foundCopy = False\n",
    "                    for n_pp in Nodes[i+1]:\n",
    "                        if n_prime.cc == n_pp.cc and n_prime.comp == n_pp.comp and n_prime.fps == n_pp.fps:\n",
    "                            foundCopy = True\n",
    "                            ncopy = n_pp\n",
    "                    if foundCopy:\n",
    "                        add_edge(n, ncopy, x, ZDD, edge_labels)\n",
    "                    else:\n",
    "                        Nodes[i+1].append(n_prime)\n",
    "                        add_node(n, n_prime, x, i, ZDD, node_labels, edge_labels, pos)\n",
    "                        \n",
    "#                 draw_ZDD(ZDD, node_labels, edge_labels, pos)\n",
    "    return (ZDD, node_labels, edge_labels, pos)"
   ]
  },
  {
   "cell_type": "code",
   "execution_count": 816,
   "metadata": {},
   "outputs": [],
   "source": [
    "G = nx.grid_graph(dim=(4,4))\n",
    "# G.remove_edge((0,0),(0,1))"
   ]
  },
  {
   "cell_type": "code",
   "execution_count": 817,
   "metadata": {},
   "outputs": [
    {
     "data": {
      "image/png": "[encoded data removed]",
      "text/plain": [
       "<Figure size 432x288 with 1 Axes>"
      ]
     },
     "metadata": {},
     "output_type": "display_data"
    }
   ],
   "source": [
    "nx.draw_spectral(G)"
   ]
  },
  {
   "cell_type": "code",
   "execution_count": 818,
   "metadata": {},
   "outputs": [
    {
     "name": "stderr",
     "output_type": "stream",
     "text": [
      "100%|██████████| 24/24 [00:00<00:00, 36.11it/s]"
     ]
    },
    {
     "name": "stdout",
     "output_type": "stream",
     "text": [
      "CPU times: user 668 ms, sys: 8.81 ms, total: 677 ms\n",
      "Wall time: 674 ms\n"
     ]
    },
    {
     "name": "stderr",
     "output_type": "stream",
     "text": [
      "\n"
     ]
    }
   ],
   "source": [
    "%%time\n",
    "ZDD_package = constructZDD(G)"
   ]
  },
  {
   "cell_type": "code",
   "execution_count": 819,
   "metadata": {},
   "outputs": [
    {
     "name": "stderr",
     "output_type": "stream",
     "text": [
      "565it [00:00, 2659.32it/s]"
     ]
    },
    {
     "name": "stdout",
     "output_type": "stream",
     "text": [
      "There are 3178 nodes with paths to count\n"
     ]
    },
    {
     "name": "stderr",
     "output_type": "stream",
     "text": [
      "3178it [00:01, 3116.59it/s]"
     ]
    },
    {
     "name": "stdout",
     "output_type": "stream",
     "text": [
      "CPU times: user 1.01 s, sys: 13.3 ms, total: 1.03 s\n",
      "Wall time: 1.02 s\n"
     ]
    },
    {
     "name": "stderr",
     "output_type": "stream",
     "text": [
      "\n"
     ]
    },
    {
     "data": {
      "text/plain": [
       "627"
      ]
     },
     "execution_count": 819,
     "metadata": {},
     "output_type": "execute_result"
    }
   ],
   "source": [
    "%%time\n",
    "print(f\"There are {len(ZDD_package[0].nodes)} nodes with paths to count\")\n",
    "count_paths(*ZDD_package)"
   ]
  },
  {
   "cell_type": "code",
   "execution_count": null,
   "metadata": {},
   "outputs": [],
   "source": []
  }
 ],
 "metadata": {
  "kernelspec": {
   "display_name": "Python 3",
   "language": "python",
   "name": "python3"
  },
  "language_info": {
   "codemirror_mode": {
    "name": "ipython",
    "version": 3
   },
   "file_extension": ".py",
   "mimetype": "text/x-python",
   "name": "python",
   "nbconvert_exporter": "python",
   "pygments_lexer": "ipython3",
   "version": "3.8.5"
  }
 },
 "nbformat": 4,
 "nbformat_minor": 4
}
