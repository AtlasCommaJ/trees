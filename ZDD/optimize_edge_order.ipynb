{
 "cells": [
  {
   "cell_type": "code",
   "execution_count": 16,
   "metadata": {},
   "outputs": [],
   "source": [
    "from networkx.algorithms.connectivity import local_node_connectivity\n",
    "from networkx.algorithms.flow import shortest_augmenting_path\n",
    "from networkx.algorithms.connectivity import minimum_st_node_cut\n",
    "import networkx as nx\n",
    "from networkx.algorithms import tree\n",
    "from IPython.display import display, clear_output\n",
    "from gerrychain import Partition\n",
    "from gerrychain.grid import Grid\n",
    "import matplotlib.pyplot as plt\n",
    "import networkx as nx\n",
    "from tqdm import tqdm\n",
    "import pandas as pd\n",
    "import numpy as np\n",
    "import random\n",
    "import pickle\n",
    "import math"
   ]
  },
  {
   "cell_type": "code",
   "execution_count": 17,
   "metadata": {},
   "outputs": [],
   "source": [
    "def zdd_heuristic_recursion(G,s,t,origin_edge_dict,node_counter):\n",
    "    assert(s != t)\n",
    "    assert(s in G)\n",
    "    assert(t in G)\n",
    "    if len(G.nodes) == 2:\n",
    "        # print('here')\n",
    "        edge_lists = [origin_edge_dict[e] for e in G.edges()]\n",
    "        return [i for el in edge_lists for i in el]\n",
    "    cut_nodes = minimum_st_node_cut(G,s,t)\n",
    "    G_ = G.copy()\n",
    "    G_.remove_nodes_from(cut_nodes)\n",
    "    CC = [G_.subgraph(c).copy() for c in nx.connected_components(G_)]\n",
    "    assert(len(CC)==2)\n",
    "    G0 = CC[0] if s in CC[0].nodes() else CC[1]\n",
    "    G1 = CC[1] if t in CC[1].nodes() else CC[0]\n",
    "    assert(s in G0.nodes())\n",
    "    assert(t in G1.nodes())\n",
    "    # print(cut_nodes, len(G0.nodes()),len(G1.nodes()),len(G.nodes()))\n",
    "    G0.add_node('temp'+str(node_counter))\n",
    "    G1.add_node('temp'+str(node_counter))\n",
    "    neighbors_to_add0 = []\n",
    "    neighbors_to_add1 = []\n",
    "    origin_edge_dict0 = origin_edge_dict.copy()\n",
    "    origin_edge_dict1 = origin_edge_dict.copy()\n",
    "    for node in cut_nodes:\n",
    "        for neighbor in G.neighbors(node):\n",
    "            if neighbor in G0.nodes():\n",
    "                G0.add_edge(neighbor,'temp'+str(node_counter))\n",
    "                origin_edge_dict0[(neighbor,'temp'+str(node_counter))] = origin_edge_dict0[(neighbor,node)] + (origin_edge_dict0[(neighbor,'temp'+str(node_counter))] if (neighbor,'temp'+str(node_counter)) in origin_edge_dict0.keys() else [])\n",
    "                origin_edge_dict0[('temp'+str(node_counter),neighbor)] = origin_edge_dict0[(neighbor,node)] + (origin_edge_dict0[('temp'+str(node_counter),neighbor)] if ('temp'+str(node_counter),neighbor) in origin_edge_dict0.keys() else [])\n",
    "            elif neighbor in G1.nodes():\n",
    "                G1.add_edge(neighbor,'temp'+str(node_counter))\n",
    "                origin_edge_dict1[(neighbor,'temp'+str(node_counter))] = origin_edge_dict1[(neighbor,node)] + (origin_edge_dict1[(neighbor,'temp'+str(node_counter))] if (neighbor,'temp'+str(node_counter)) in origin_edge_dict1.keys() else [])\n",
    "                origin_edge_dict1[('temp'+str(node_counter),neighbor)] = origin_edge_dict1[(neighbor,node)] + (origin_edge_dict1[('temp'+str(node_counter),neighbor)] if ('temp'+str(node_counter),neighbor) in origin_edge_dict1.keys() else [])\n",
    "            else:\n",
    "                print('neighbor error!')\n",
    "                assert(False)\n",
    "    return zdd_heuristic_recursion(G0,s,'temp'+str(node_counter),origin_edge_dict0,node_counter+1) + zdd_heuristic_recursion(G1,'temp'+str(node_counter),t,origin_edge_dict1,node_counter+1)\n",
    "\n",
    "def zdd_heuristic_edge_order(G):\n",
    "    #find farthest pair\n",
    "    all_pairs_paths = dict(nx.all_pairs_shortest_path(G))\n",
    "    path_lengths = {(u,v):len(all_pairs_paths[u][v]) for u in all_pairs_paths.keys() for v in all_pairs_paths[u]}\n",
    "    s,t = random.choice([key for key in path_lengths.keys() if path_lengths[key]==max(path_lengths.values())])\n",
    "    origin_edges = {(e[0],e[1]):[e] for e in G.edges()}\n",
    "    origin_edges.update({(e[1],e[0]):[e] for e in G.edges()})\n",
    "    return zdd_heuristic_recursion(G,s,t,origin_edges,0)\n",
    "\n",
    "def frontiers(edge_list):\n",
    "    frontier_list = [set()]\n",
    "    edges_seen = []\n",
    "    edges_unseen = edge_list\n",
    "    for e in edge_list:\n",
    "        edges_seen = edges_seen + [e]\n",
    "        edges_unseen = edges_unseen[1:]\n",
    "        frontier_list.append(({e[0] for e in edges_seen}.union({e[1] for e in edges_seen})).intersection({e[0] for e in edges_unseen}.union({e[1] for e in edges_unseen})))\n",
    "    return frontier_list\n",
    "\n",
    "def optimal_grid_edge_order(G):\n",
    "    #assumes G is grid with (x,y) nodes\n",
    "    x_max = max([v[0] for v in G.nodes()])\n",
    "    y_max = max([v[1] for v in G.nodes()])\n",
    "    edge_list = []\n",
    "    for y in range(y_max):\n",
    "        y_ = y+1\n",
    "        x_ = 0\n",
    "        while y_ > 0 and x_ < x_max:\n",
    "            edge_list.append(((x_,y_),(x_,y_-1)))\n",
    "            edge_list.append(((x_,y_-1),(x_+1,y_-1)))\n",
    "            y_ -= 1\n",
    "            x_ += 1\n",
    "        if y_ > 0:\n",
    "            edge_list.append(((x_,y_),(x_,y_-1)))\n",
    "    for x in range(x_max):\n",
    "        y_ = y_max\n",
    "        x_ = x\n",
    "        while y_ > 0 and x_ < x_max:\n",
    "            edge_list.append(((x_,y_),(x_+1,y_)))\n",
    "            edge_list.append(((x_+1,y_),(x_+1,y_-1)))\n",
    "            y_ -= 1\n",
    "            x_ += 1\n",
    "        if x_ < x_max:\n",
    "            edge_list.append(((x_,y_),(x_+1,y_)))\n",
    "    assert(len(edge_list)==len(G.edges()))\n",
    "    for e in edge_list:\n",
    "        assert(e in G.edges())\n",
    "    return edge_list"
   ]
  },
  {
   "cell_type": "code",
   "execution_count": 25,
   "metadata": {},
   "outputs": [],
   "source": [
    "g = nx.grid_2d_graph(4,4)"
   ]
  },
  {
   "cell_type": "code",
   "execution_count": 28,
   "metadata": {},
   "outputs": [
    {
     "data": {
      "text/plain": [
       "EdgeView([((0, 0), (1, 0)), ((0, 0), (0, 1)), ((0, 1), (1, 1)), ((0, 1), (0, 2)), ((0, 2), (1, 2)), ((0, 2), (0, 3)), ((0, 3), (1, 3)), ((1, 0), (2, 0)), ((1, 0), (1, 1)), ((1, 1), (2, 1)), ((1, 1), (1, 2)), ((1, 2), (2, 2)), ((1, 2), (1, 3)), ((1, 3), (2, 3)), ((2, 0), (3, 0)), ((2, 0), (2, 1)), ((2, 1), (3, 1)), ((2, 1), (2, 2)), ((2, 2), (3, 2)), ((2, 2), (2, 3)), ((2, 3), (3, 3)), ((3, 0), (3, 1)), ((3, 1), (3, 2)), ((3, 2), (3, 3))])"
      ]
     },
     "execution_count": 28,
     "metadata": {},
     "output_type": "execute_result"
    }
   ],
   "source": [
    "g.edges()"
   ]
  },
  {
   "cell_type": "code",
   "execution_count": 23,
   "metadata": {},
   "outputs": [
    {
     "name": "stdout",
     "output_type": "stream",
     "text": [
      "Creating an 4x4 graph...\n",
      "5 83\n",
      "5 89\n",
      "4 76\n",
      "Creating an 5x5 graph...\n",
      "7 168\n",
      "6 189\n",
      "5 155\n",
      "Creating an 6x6 graph...\n",
      "8 305\n",
      "7 344\n",
      "6 274\n",
      "Creating an 10x10 graph...\n",
      "13 1486\n",
      "11 1754\n",
      "10 1310\n"
     ]
    }
   ],
   "source": [
    "#Testing\n",
    "\n",
    "graph4 = nx.grid_2d_graph(4, 4) \n",
    "graph5 = nx.grid_2d_graph(5, 5)\n",
    "graph6 = nx.grid_2d_graph(6,6)\n",
    "graph10 = nx.grid_2d_graph(10, 10) \n",
    "\n",
    "graph = graph5\n",
    "for i in [4, 5, 6, 10]:\n",
    "    print(f\"Creating an {i}x{i} graph...\")\n",
    "    graph = nx.grid_2d_graph(i,i)\n",
    "    edge_list = zdd_heuristic_edge_order(graph)\n",
    "    frontier_list = frontiers(edge_list)\n",
    "\n",
    "    print(max([len(fron) for fron in frontier_list]),sum([len(fron) for fron in frontier_list]))\n",
    "    print(max([len(fron) for fron in frontiers(list(graph.edges))]),sum([len(fron) for fron in frontiers(list(graph.edges))]))\n",
    "    print(max([len(fron) for fron in frontiers(optimal_grid_edge_order(graph))]),sum([len(fron) for fron in frontiers(optimal_grid_edge_order(graph))]))"
   ]
  },
  {
   "cell_type": "code",
   "execution_count": null,
   "metadata": {},
   "outputs": [],
   "source": []
  }
 ],
 "metadata": {
  "kernelspec": {
   "display_name": "Python 3",
   "language": "python",
   "name": "python3"
  },
  "language_info": {
   "codemirror_mode": {
    "name": "ipython",
    "version": 3
   },
   "file_extension": ".py",
   "mimetype": "text/x-python",
   "name": "python",
   "nbconvert_exporter": "python",
   "pygments_lexer": "ipython3",
   "version": "3.8.5"
  }
 },
 "nbformat": 4,
 "nbformat_minor": 4
}
